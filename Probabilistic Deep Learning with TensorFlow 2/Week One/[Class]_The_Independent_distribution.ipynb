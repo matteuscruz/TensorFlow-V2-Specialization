{
  "nbformat": 4,
  "nbformat_minor": 0,
  "metadata": {
    "colab": {
      "provenance": []
    },
    "kernelspec": {
      "name": "python3",
      "display_name": "Python 3"
    },
    "language_info": {
      "name": "python"
    }
  },
  "cells": [
    {
      "cell_type": "code",
      "source": [
        "import tensorflow as tf\n",
        "import tensorflow_probability as tfp\n",
        "tfd = tfp.distributions"
      ],
      "metadata": {
        "id": "z9Z4NrJX-Sg8"
      },
      "execution_count": 3,
      "outputs": []
    },
    {
      "cell_type": "code",
      "execution_count": 4,
      "metadata": {
        "colab": {
          "base_uri": "https://localhost:8080/"
        },
        "id": "slwrCeTT-P2a",
        "outputId": "aa16dc45-a09d-4827-9278-3eb1b6bf19b5"
      },
      "outputs": [
        {
          "output_type": "stream",
          "name": "stdout",
          "text": [
            "tfp.distributions.Independent(\"IndependentNormal\", batch_shape=[], event_shape=[2], dtype=float32)\n"
          ]
        }
      ],
      "source": [
        "batched_normal = tfd.Normal(loc=[-1., 0.5], scale=[1., 1.5])\n",
        "\n",
        "independent_normal = tfd.Independent(batched_normal, reinterpreted_batch_ndims=1)\n",
        "print(independent_normal)"
      ]
    },
    {
      "cell_type": "code",
      "source": [
        "independent_normal.log_prob([-0.2, 1.8])"
      ],
      "metadata": {
        "colab": {
          "base_uri": "https://localhost:8080/"
        },
        "id": "fWideHEj-WE9",
        "outputId": "229a9cd2-d484-49cd-84f1-5fc7c75c4834"
      },
      "execution_count": 5,
      "outputs": [
        {
          "output_type": "execute_result",
          "data": {
            "text/plain": [
              "<tf.Tensor: shape=(), dtype=float32, numpy=-2.9388976>"
            ]
          },
          "metadata": {},
          "execution_count": 5
        }
      ]
    },
    {
      "cell_type": "code",
      "source": [
        "batched_normal = tfd.Normal(\n",
        "\tloc=[[-1., 0.5], [0., 1.], [0.3, -0.1]],\n",
        "\tscale=[[1., 1.5], [0.2, 0.8], [2., 1.]]\n",
        "\t)\n",
        "print(batched_normal)"
      ],
      "metadata": {
        "colab": {
          "base_uri": "https://localhost:8080/"
        },
        "id": "CRGNFD7N_7ep",
        "outputId": "1d939ba5-edda-401e-9f37-3f9639c4acdb"
      },
      "execution_count": 6,
      "outputs": [
        {
          "output_type": "stream",
          "name": "stdout",
          "text": [
            "tfp.distributions.Normal(\"Normal\", batch_shape=[3, 2], event_shape=[], dtype=float32)\n"
          ]
        }
      ]
    },
    {
      "cell_type": "code",
      "source": [
        "independent_normal = tfd.Independent(batched_normal, reinterpreted_batch_ndims=2)\n",
        "print(independent_normal)"
      ],
      "metadata": {
        "colab": {
          "base_uri": "https://localhost:8080/"
        },
        "id": "dIcKd7uQ-igV",
        "outputId": "4032ddee-69e9-4207-a3c4-030d53ceb792"
      },
      "execution_count": 7,
      "outputs": [
        {
          "output_type": "stream",
          "name": "stdout",
          "text": [
            "tfp.distributions.Independent(\"IndependentNormal\", batch_shape=[], event_shape=[3, 2], dtype=float32)\n"
          ]
        }
      ]
    },
    {
      "cell_type": "code",
      "source": [],
      "metadata": {
        "id": "c-_dUk8D__3G"
      },
      "execution_count": null,
      "outputs": []
    }
  ]
}