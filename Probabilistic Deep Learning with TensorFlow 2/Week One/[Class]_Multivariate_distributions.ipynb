{
  "nbformat": 4,
  "nbformat_minor": 0,
  "metadata": {
    "colab": {
      "provenance": []
    },
    "kernelspec": {
      "name": "python3",
      "display_name": "Python 3"
    },
    "language_info": {
      "name": "python"
    }
  },
  "cells": [
    {
      "cell_type": "code",
      "execution_count": 1,
      "metadata": {
        "id": "FFKI2Oy8ep3s"
      },
      "outputs": [],
      "source": [
        "import tensorflow as tf\n",
        "import tensorflow_probability as tfp\n",
        "tfd = tfp.distributions"
      ]
    },
    {
      "cell_type": "code",
      "source": [
        "mv_normal = tfd.MultivariateNormalDiag(loc=[-1., 0.5], scale_diag=[1., 1.5])\n",
        "print(mv_normal)"
      ],
      "metadata": {
        "colab": {
          "base_uri": "https://localhost:8080/"
        },
        "id": "AwsR8n0LerI-",
        "outputId": "7b5a2b4c-f18e-48a6-cdd0-3f93fdc1927d"
      },
      "execution_count": 2,
      "outputs": [
        {
          "output_type": "stream",
          "name": "stdout",
          "text": [
            "tfp.distributions.MultivariateNormalDiag(\"MultivariateNormalDiag\", batch_shape=[], event_shape=[2], dtype=float32)\n"
          ]
        }
      ]
    },
    {
      "cell_type": "code",
      "source": [
        "mv_normal = tfd.MultivariateNormalDiag(loc=[-1., 0.5], scale_diag=[1., 1.5])\n",
        "mv_normal.sample(3)"
      ],
      "metadata": {
        "colab": {
          "base_uri": "https://localhost:8080/"
        },
        "id": "wjWWBLnJes0c",
        "outputId": "60776efc-1815-4d98-c69e-958c1da0e2a4"
      },
      "execution_count": 3,
      "outputs": [
        {
          "output_type": "execute_result",
          "data": {
            "text/plain": [
              "<tf.Tensor: shape=(3, 2), dtype=float32, numpy=\n",
              "array([[-0.03560925, -0.9064474 ],\n",
              "       [-0.3578266 , -0.7053442 ],\n",
              "       [-0.38168263, -0.46170372]], dtype=float32)>"
            ]
          },
          "metadata": {},
          "execution_count": 3
        }
      ]
    },
    {
      "cell_type": "code",
      "source": [
        "batched_normal = tfd.Normal(loc=[-1., 0.5], scale=[1., 1.5])\n",
        "batched_normal.sample(3)"
      ],
      "metadata": {
        "colab": {
          "base_uri": "https://localhost:8080/"
        },
        "id": "dcKQ1Itfe7b6",
        "outputId": "400f91f4-9072-4745-d154-79822ceaf18d"
      },
      "execution_count": 5,
      "outputs": [
        {
          "output_type": "execute_result",
          "data": {
            "text/plain": [
              "<tf.Tensor: shape=(3, 2), dtype=float32, numpy=\n",
              "array([[-1.6902812 ,  1.2384315 ],\n",
              "       [-0.57953787, -1.61094   ],\n",
              "       [-0.0633837 ,  0.8795818 ]], dtype=float32)>"
            ]
          },
          "metadata": {},
          "execution_count": 5
        }
      ]
    },
    {
      "cell_type": "code",
      "source": [
        "batched_normal = tfd.Normal(loc=[-1., 0.5], scale=[1., 1.5])\n",
        "batched_normal.log_prob([0.2, 1.8])"
      ],
      "metadata": {
        "colab": {
          "base_uri": "https://localhost:8080/"
        },
        "id": "qT-b0sEGfuP_",
        "outputId": "6e0076e4-dfc8-4c8d-efde-1bd3d358368d"
      },
      "execution_count": 7,
      "outputs": [
        {
          "output_type": "execute_result",
          "data": {
            "text/plain": [
              "<tf.Tensor: shape=(2,), dtype=float32, numpy=array([-1.6389385, -1.699959 ], dtype=float32)>"
            ]
          },
          "metadata": {},
          "execution_count": 7
        }
      ]
    },
    {
      "cell_type": "code",
      "source": [
        "batched_mv_normal = tfd.MultivariateNormalDiag(\n",
        "\tloc=[[-1., 0.5], [2., 0.], [-0.5, 1.5]],\n",
        "\tscale_diag=[[1., 1.5], [2., 0.5], [1., 1.,]])\n",
        "batched_mv_normal.sample(2)"
      ],
      "metadata": {
        "colab": {
          "base_uri": "https://localhost:8080/"
        },
        "id": "e9VnQ6LMg1S3",
        "outputId": "400b7c5a-4555-4c42-c971-bb22ee85fdef"
      },
      "execution_count": 8,
      "outputs": [
        {
          "output_type": "execute_result",
          "data": {
            "text/plain": [
              "<tf.Tensor: shape=(2, 3, 2), dtype=float32, numpy=\n",
              "array([[[-1.2510694 ,  2.9420712 ],\n",
              "        [ 4.0344563 , -0.51980674],\n",
              "        [-1.4906017 ,  1.0412079 ]],\n",
              "\n",
              "       [[ 0.01786315, -0.14239699],\n",
              "        [ 0.09706712, -0.48809847],\n",
              "        [ 2.003863  ,  1.5432464 ]]], dtype=float32)>"
            ]
          },
          "metadata": {},
          "execution_count": 8
        }
      ]
    },
    {
      "cell_type": "code",
      "source": [],
      "metadata": {
        "id": "boBEC3UUicy0"
      },
      "execution_count": null,
      "outputs": []
    }
  ]
}