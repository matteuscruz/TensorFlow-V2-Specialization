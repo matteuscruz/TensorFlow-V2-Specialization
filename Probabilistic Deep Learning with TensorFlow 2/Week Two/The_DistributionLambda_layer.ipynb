{
  "nbformat": 4,
  "nbformat_minor": 0,
  "metadata": {
    "colab": {
      "provenance": []
    },
    "kernelspec": {
      "name": "python3",
      "display_name": "Python 3"
    },
    "language_info": {
      "name": "python"
    }
  },
  "cells": [
    {
      "cell_type": "code",
      "execution_count": 1,
      "metadata": {
        "id": "I9qOEWhhy6zp"
      },
      "outputs": [],
      "source": [
        "from tensorflow.keras.models import Sequential\n",
        "from tensorflow.keras.layers import Dense\n",
        "from tensorflow.keras.optimizers import RMSprop\n",
        "from tensorflow.python.ops import distributions\n",
        "from tensorflow.python.framework.ops import convert_to_tensor"
      ]
    },
    {
      "cell_type": "code",
      "source": [
        "import tensorflow_probability as tfp\n",
        "tfd  = tfp.distributions\n",
        "tfpl = tfp.layers"
      ],
      "metadata": {
        "id": "ip5zYwUWf0Rl"
      },
      "execution_count": 13,
      "outputs": []
    },
    {
      "cell_type": "code",
      "source": [
        "import numpy as np\n",
        "import tensorflow as tf\n",
        "import matplotlib.pyplot as plt"
      ],
      "metadata": {
        "id": "cDGZsdO6dRBH"
      },
      "execution_count": 3,
      "outputs": []
    },
    {
      "cell_type": "code",
      "source": [
        "model = Sequential([\n",
        "    Dense(input_shape=(1,), units=1, activation='sigmoid',\n",
        "      kernel_initializer = tf.constant_initializer(1),\n",
        "      bias_initializer = tf.constant_initializer(0))\n",
        "])\n",
        "\n",
        "# Plot the function\n",
        "x_plot = np.linspace(-5, 5, 100)\n",
        "plt.scatter(x_plot, model.predict(x_plot), alpha=0.4)\n",
        "plt.plot(x_plot, 1/(1 + np.exp(-x_plot)), color='r', alpha=0.8)\n",
        "plt.show()"
      ],
      "metadata": {
        "colab": {
          "base_uri": "https://localhost:8080/",
          "height": 282
        },
        "id": "6Dm_ZKSadUSg",
        "outputId": "52874b29-36e9-46fb-88c0-0f981ae64289"
      },
      "execution_count": 22,
      "outputs": [
        {
          "output_type": "stream",
          "name": "stdout",
          "text": [
            "4/4 [==============================] - 0s 4ms/step\n"
          ]
        },
        {
          "output_type": "display_data",
          "data": {
            "text/plain": [
              "<Figure size 432x288 with 1 Axes>"
            ],
            "image/png": "[encoded data removed]"
          },
          "metadata": {
            "needs_background": "light"
          }
        }
      ]
    },
    {
      "cell_type": "code",
      "source": [
        "x = np.array([[0]])\n",
        "x"
      ],
      "metadata": {
        "colab": {
          "base_uri": "https://localhost:8080/"
        },
        "id": "KXbxAYdYd0Kv",
        "outputId": "27cb6881-b7a5-4682-c1de-9cdbc0faa67b"
      },
      "execution_count": 6,
      "outputs": [
        {
          "output_type": "execute_result",
          "data": {
            "text/plain": [
              "array([[0]])"
            ]
          },
          "metadata": {},
          "execution_count": 6
        }
      ]
    },
    {
      "cell_type": "code",
      "source": [
        "y_model = model(x)\n",
        "y_model"
      ],
      "metadata": {
        "colab": {
          "base_uri": "https://localhost:8080/"
        },
        "id": "sX7l7ncQeLh4",
        "outputId": "34a5def2-21bf-4c53-e0fa-ba10ec9f8975"
      },
      "execution_count": 8,
      "outputs": [
        {
          "output_type": "execute_result",
          "data": {
            "text/plain": [
              "<tf.Tensor: shape=(1, 1), dtype=float32, numpy=array([[0.5]], dtype=float32)>"
            ]
          },
          "metadata": {},
          "execution_count": 8
        }
      ]
    },
    {
      "cell_type": "code",
      "source": [
        "for _ in range(5):\n",
        "  print(model.predict(x))"
      ],
      "metadata": {
        "colab": {
          "base_uri": "https://localhost:8080/"
        },
        "id": "WgPqP6MdeSec",
        "outputId": "140ca1bd-6f29-43f1-aa8d-a32e257f97b0"
      },
      "execution_count": 9,
      "outputs": [
        {
          "output_type": "stream",
          "name": "stdout",
          "text": [
            "1/1 [==============================] - 0s 264ms/step\n",
            "[[0.5]]\n",
            "1/1 [==============================] - 0s 22ms/step\n",
            "[[0.5]]\n",
            "1/1 [==============================] - 0s 22ms/step\n",
            "[[0.5]]\n",
            "1/1 [==============================] - 0s 27ms/step\n",
            "[[0.5]]\n",
            "1/1 [==============================] - 0s 27ms/step\n",
            "[[0.5]]\n"
          ]
        }
      ]
    },
    {
      "cell_type": "code",
      "source": [
        "model = Sequential([\n",
        "    Dense(input_shape=(1,), units=1, activation='sigmoid',\n",
        "      kernel_initializer = tf.constant_initializer(1),\n",
        "      bias_initializer = tf.constant_initializer(0)),\n",
        "    tfpl.DistributionLambda(lambda t: tfd.Bernoulli(probs=t),\n",
        "                            convert_to_tensor_fn = tfd.Distribution.sample)\n",
        "])\n",
        "\n",
        "# Plot the function\n",
        "x_plot = np.linspace(-5, 5, 100)\n",
        "plt.scatter(x_plot, model.predict(x_plot), alpha=0.4)\n",
        "plt.plot(x_plot, 1/(1 + np.exp(-x_plot)), color='r', alpha=0.8)\n",
        "plt.show()"
      ],
      "metadata": {
        "colab": {
          "base_uri": "https://localhost:8080/",
          "height": 282
        },
        "id": "Q8ooIopgfSCd",
        "outputId": "8f657e7b-5515-4956-8ada-3e70b66cc396"
      },
      "execution_count": 23,
      "outputs": [
        {
          "output_type": "stream",
          "name": "stdout",
          "text": [
            "4/4 [==============================] - 0s 3ms/step\n"
          ]
        },
        {
          "output_type": "display_data",
          "data": {
            "text/plain": [
              "<Figure size 432x288 with 1 Axes>"
            ],
            "image/png": "[encoded data removed]"
          },
          "metadata": {
            "needs_background": "light"
          }
        }
      ]
    },
    {
      "cell_type": "code",
      "source": [
        "x = np.array([[0]])\n",
        "x"
      ],
      "metadata": {
        "colab": {
          "base_uri": "https://localhost:8080/"
        },
        "id": "XRNqj3CwfwQ6",
        "outputId": "1bd4ab04-84a9-49a2-e889-6069bf15f47c"
      },
      "execution_count": 17,
      "outputs": [
        {
          "output_type": "execute_result",
          "data": {
            "text/plain": [
              "array([[0]])"
            ]
          },
          "metadata": {},
          "execution_count": 17
        }
      ]
    },
    {
      "cell_type": "code",
      "source": [
        "y_model = model(x)\n",
        "y_model"
      ],
      "metadata": {
        "colab": {
          "base_uri": "https://localhost:8080/"
        },
        "id": "LU5ESOvVgYPI",
        "outputId": "3ccbe356-b8f3-43de-926c-c3cf8d067a97"
      },
      "execution_count": 18,
      "outputs": [
        {
          "output_type": "execute_result",
          "data": {
            "text/plain": [
              "<tfp.distributions._TensorCoercible 'tensor_coercible' batch_shape=[1, 1] event_shape=[] dtype=int32>"
            ]
          },
          "metadata": {},
          "execution_count": 18
        }
      ]
    },
    {
      "cell_type": "code",
      "source": [
        "for _ in range(5):\n",
        "  print(model.predict(x))"
      ],
      "metadata": {
        "colab": {
          "base_uri": "https://localhost:8080/"
        },
        "id": "KDY0bW1WgZ1h",
        "outputId": "f870ebe5-7445-4261-ae03-b1cc1faee4eb"
      },
      "execution_count": 20,
      "outputs": [
        {
          "output_type": "stream",
          "name": "stdout",
          "text": [
            "1/1 [==============================] - 0s 24ms/step\n",
            "[[0]]\n",
            "1/1 [==============================] - 0s 26ms/step\n",
            "[[1]]\n",
            "1/1 [==============================] - 0s 27ms/step\n",
            "[[0]]\n",
            "1/1 [==============================] - 0s 23ms/step\n",
            "[[0]]\n",
            "1/1 [==============================] - 0s 24ms/step\n",
            "[[0]]\n"
          ]
        }
      ]
    },
    {
      "cell_type": "code",
      "source": [
        "x_train = np.linspace(-5, 5, 500)[:, np.newaxis]\n",
        "y_train = model.predict(x_train)\n",
        "\n",
        "# Plot the data and the mean of the distribution\n",
        "fig, ax = plt.subplots(figsize=(5, 5))\n",
        "ax.scatter(x_train, y_train, alpha=0.04, color='blue', label='samples')\n",
        "ax.plot(x_train, model(x_train).mean().numpy().flatten(), \n",
        "        color='red', alpha=0.8, label='mean')\n",
        "ax.legend()\n",
        "plt.show()"
      ],
      "metadata": {
        "colab": {
          "base_uri": "https://localhost:8080/",
          "height": 337
        },
        "id": "O09vbr9Fgdz9",
        "outputId": "c6410fd6-51ea-4934-9a8c-827bcdabdd18"
      },
      "execution_count": 21,
      "outputs": [
        {
          "output_type": "stream",
          "name": "stdout",
          "text": [
            "16/16 [==============================] - 0s 5ms/step\n"
          ]
        },
        {
          "output_type": "display_data",
          "data": {
            "text/plain": [
              "<Figure size 360x360 with 1 Axes>"
            ],
            "image/png": "[encoded data removed]"
          },
          "metadata": {
            "needs_background": "light"
          }
        }
      ]
    },
    {
      "cell_type": "code",
      "source": [
        "model_untrained = Sequential([\n",
        "    Dense(input_shape=(1,), units=1, activation='sigmoid',\n",
        "      kernel_initializer = tf.constant_initializer(1),\n",
        "      bias_initializer = tf.constant_initializer(0)),\n",
        "    tfpl.DistributionLambda(lambda t: tfd.Bernoulli(probs=t),\n",
        "                            convert_to_tensor_fn = tfd.Distribution.sample)\n",
        "])"
      ],
      "metadata": {
        "id": "954RPo4lg6e_"
      },
      "execution_count": 25,
      "outputs": []
    },
    {
      "cell_type": "code",
      "source": [
        "def nll(y_true, y_pred):\n",
        "  return -y_pred.log_prob(y_true)"
      ],
      "metadata": {
        "id": "Umty38dThTlj"
      },
      "execution_count": 26,
      "outputs": []
    },
    {
      "cell_type": "code",
      "source": [
        "model_untrained.compile(loss=nll, optimizer=RMSprop(learning_rate=0.01))"
      ],
      "metadata": {
        "id": "3PPTpVvAhfqG"
      },
      "execution_count": 29,
      "outputs": []
    },
    {
      "cell_type": "code",
      "source": [
        "epochs = [0]\n",
        "training_weights = [model_untrained.weights[0].numpy()[0, 0]]\n",
        "training_bias = [model_untrained.weights[1].numpy()[0]]\n",
        "for epoch in range(100):\n",
        "    model_untrained.fit(x=x_train, y=y_train, epochs=1, verbose=False)\n",
        "    epochs.append(epoch)\n",
        "    training_weights.append(model_untrained.weights[0].numpy()[0, 0])\n",
        "    training_bias.append(model_untrained.weights[1].numpy()[0])"
      ],
      "metadata": {
        "id": "bwRRX87Rhr5f"
      },
      "execution_count": 32,
      "outputs": []
    },
    {
      "cell_type": "code",
      "source": [
        "plt.plot(epochs, training_weights, label='weight')\n",
        "plt.plot(epochs, training_bias, label='bias')\n",
        "plt.axhline(y=1, label='true_weight', color='k', linestyle=':')\n",
        "plt.axhline(y=0, label='true_bias', color='k', linestyle='--')\n",
        "plt.xlabel('Epochs')\n",
        "plt.legend()\n",
        "plt.show()"
      ],
      "metadata": {
        "colab": {
          "base_uri": "https://localhost:8080/",
          "height": 279
        },
        "id": "IMljzrFah98i",
        "outputId": "67b6102f-5935-4c4b-bb5c-b9067caa3149"
      },
      "execution_count": 33,
      "outputs": [
        {
          "output_type": "display_data",
          "data": {
            "text/plain": [
              "<Figure size 432x288 with 1 Axes>"
            ],
            "image/png": "[encoded data removed]"
          },
          "metadata": {
            "needs_background": "light"
          }
        }
      ]
    },
    {
      "cell_type": "code",
      "source": [],
      "metadata": {
        "id": "sgChx1gniIkc"
      },
      "execution_count": null,
      "outputs": []
    }
  ]
}