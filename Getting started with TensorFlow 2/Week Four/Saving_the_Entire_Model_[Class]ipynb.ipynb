{
  "nbformat": 4,
  "nbformat_minor": 0,
  "metadata": {
    "colab": {
      "provenance": []
    },
    "kernelspec": {
      "name": "python3",
      "display_name": "Python 3"
    },
    "language_info": {
      "name": "python"
    }
  },
  "cells": [
    {
      "cell_type": "markdown",
      "source": [
        "# Criando e salvando o modelo"
      ],
      "metadata": {
        "id": "bckw1sD7UmQB"
      }
    },
    {
      "cell_type": "code",
      "execution_count": 1,
      "metadata": {
        "id": "THEOaho0N9Co"
      },
      "outputs": [],
      "source": [
        "# Importando as bibliotecas necessárias\n",
        "from tensorflow.keras.models import Sequential\n",
        "from tensorflow.keras.layers import Dense, Dropout\n",
        "from tensorflow.keras.callbacks import ModelCheckpoint"
      ]
    },
    {
      "cell_type": "code",
      "source": [
        "# Construindo o modelo\n",
        "model = Sequential([\n",
        "    Dense(16, activation='relu'),\n",
        "    Dropout(0.3),\n",
        "    Dense(3, activation='softmax')\n",
        "])"
      ],
      "metadata": {
        "id": "1_8mQiTwOWn_"
      },
      "execution_count": 2,
      "outputs": []
    },
    {
      "cell_type": "code",
      "source": [
        "# Compilando o modelo\n",
        "model.compile(optimizer='rmsprop', loss='sparse_categorical_crossentropy',\n",
        "              metrics=['acc', 'mae'])"
      ],
      "metadata": {
        "id": "rkGqDLJQOoCI"
      },
      "execution_count": 3,
      "outputs": []
    },
    {
      "cell_type": "code",
      "source": [
        "# Criando o checkpoint\n",
        "checkpoint = ModelCheckpoint('my_model', save_weights_only=False)\n",
        "\n",
        "# Salva o modelo inteiro, não apenas os pesos\n",
        "# Arquivos:\n",
        "# my_model/assets/\n",
        "# my_model/saved_model.pb\n",
        "# my_model/variables/variables.data-00000-of-00001\n",
        "# my_model/variables/variables.index"
      ],
      "metadata": {
        "id": "R_LOLW-dO0OZ"
      },
      "execution_count": 4,
      "outputs": []
    },
    {
      "cell_type": "code",
      "source": [
        "# Criando o checkpoint\n",
        "checkpoint = ModelCheckpoint('my_model.h5', save_weights_only=False)\n",
        "\n",
        "# Neste caso é salvo o modelo no formato Keras HDF5\n",
        "# Apesar de aparecer com o salvamento apenas dos pesos, neste caso\n",
        "# toda arquitetura do modelo também é salva.\n",
        "# Arquivos gerados:\n",
        "# my_model.h5"
      ],
      "metadata": {
        "id": "n89klajKS9Wk"
      },
      "execution_count": null,
      "outputs": []
    },
    {
      "cell_type": "code",
      "source": [
        "# Treinamento do modelo\n",
        "model.fit(x_train, y_train, epochs=10, callbacks=[checkpoint])"
      ],
      "metadata": {
        "id": "XdMwur3KP8Fb"
      },
      "execution_count": null,
      "outputs": []
    },
    {
      "cell_type": "code",
      "source": [
        "# Salva o modelo\n",
        "model.save('my_model') # Salva no formato padrão do TensorFlow\n",
        "model.save('keras_model.hr') # Salva o modelo no formato Keras HDF5"
      ],
      "metadata": {
        "id": "tKNVpSnYQEK7"
      },
      "execution_count": null,
      "outputs": []
    },
    {
      "cell_type": "markdown",
      "source": [
        "# Carregando o modelo"
      ],
      "metadata": {
        "id": "J6NyTitUVMZE"
      }
    },
    {
      "cell_type": "code",
      "source": [
        "# Importando as bibliotecas necessárias\n",
        "from tensorflow.keras.models import load_model"
      ],
      "metadata": {
        "id": "1B1VpWplVOea"
      },
      "execution_count": 7,
      "outputs": []
    },
    {
      "cell_type": "code",
      "source": [
        "# Carregando e mostrando as características do modelo\n",
        "new_model = load_model('my_model') # Padrão TensorFlow\n",
        "new_model = load_model('keras_model.hr')\n",
        "new_model.summary()"
      ],
      "metadata": {
        "id": "D6IGYsWBVXMC"
      },
      "execution_count": null,
      "outputs": []
    },
    {
      "cell_type": "code",
      "source": [
        "# Treinando o modelo\n",
        "new_model.fit(x_train, y_train, validation_data=(x_val, y_val),\n",
        "              epochs=20, batch_size=16)"
      ],
      "metadata": {
        "id": "Uapv4f2ZVhgY"
      },
      "execution_count": null,
      "outputs": []
    },
    {
      "cell_type": "code",
      "source": [
        "# Avaliando o modelo\n",
        "new_model.evaluate(x_test, y_test)\n",
        "\n",
        "# Usando o modelo para predizer \n",
        "new_model.predict(x_samples)"
      ],
      "metadata": {
        "id": "Pu_E1BjRV7tZ"
      },
      "execution_count": null,
      "outputs": []
    }
  ]
}