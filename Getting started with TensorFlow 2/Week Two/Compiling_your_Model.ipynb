{
  "nbformat": 4,
  "nbformat_minor": 0,
  "metadata": {
    "colab": {
      "name": "Compiling_your_Model.ipynb",
      "provenance": []
    },
    "kernelspec": {
      "name": "python3",
      "display_name": "Python 3"
    },
    "language_info": {
      "name": "python"
    }
  },
  "cells": [
    {
      "cell_type": "code",
      "execution_count": 2,
      "metadata": {
        "id": "VtzdYl-Gl8hg"
      },
      "outputs": [],
      "source": [
        "# Importando as Bibliotecas Necessárias\n",
        "import tensorflow as tf\n",
        "from tensorflow.keras.models import Sequential\n",
        "from tensorflow.keras.layers import Dense, Flatten, Conv2D, MaxPooling2D"
      ]
    },
    {
      "cell_type": "markdown",
      "source": [
        "# Desenvolvendo o modelo"
      ],
      "metadata": {
        "id": "N23scyV1mYvV"
      }
    },
    {
      "cell_type": "code",
      "source": [
        "model = Sequential([\n",
        "    Conv2D(16, (3, 3), padding='SAME', strides=2, activation='relu', input_shape=(1, 28, 28), data_format='channels_first'),\n",
        "    MaxPooling2D((3,3), data_format='channels_first'),\n",
        "    Flatten(),\n",
        "    Dense(10, activation='softmax')\n",
        "])"
      ],
      "metadata": {
        "id": "Q9rRuc5ZmPkv"
      },
      "execution_count": 3,
      "outputs": []
    },
    {
      "cell_type": "code",
      "source": [
        "model.summary()"
      ],
      "metadata": {
        "colab": {
          "base_uri": "https://localhost:8080/"
        },
        "id": "DcCPBk57mTaz",
        "outputId": "9e7aeee7-ffcb-4fdd-e51b-26dd699231f7"
      },
      "execution_count": 4,
      "outputs": [
        {
          "output_type": "stream",
          "name": "stdout",
          "text": [
            "Model: \"sequential\"\n",
            "_________________________________________________________________\n",
            " Layer (type)                Output Shape              Param #   \n",
            "=================================================================\n",
            " conv2d (Conv2D)             (None, 16, 14, 14)        160       \n",
            "                                                                 \n",
            " max_pooling2d (MaxPooling2D  (None, 16, 4, 4)         0         \n",
            " )                                                               \n",
            "                                                                 \n",
            " flatten (Flatten)           (None, 256)               0         \n",
            "                                                                 \n",
            " dense (Dense)               (None, 10)                2570      \n",
            "                                                                 \n",
            "=================================================================\n",
            "Total params: 2,730\n",
            "Trainable params: 2,730\n",
            "Non-trainable params: 0\n",
            "_________________________________________________________________\n"
          ]
        }
      ]
    },
    {
      "cell_type": "markdown",
      "source": [
        "# Compilando o modelo"
      ],
      "metadata": {
        "id": "lYwWB5mQmV3u"
      }
    },
    {
      "cell_type": "code",
      "source": [
        "model.compile(optimizer='sgd',  # adam\n",
        "              loss='categorical_crossentropy', # sparse_categorical_crossentropy,\n",
        "              metrics=['accuracy', 'mae']) "
      ],
      "metadata": {
        "id": "RwcWERxPmUz9"
      },
      "execution_count": 7,
      "outputs": []
    },
    {
      "cell_type": "code",
      "source": [
        "print(model.loss)\n",
        "print(model.optimizer)\n",
        "print(model.metrics)"
      ],
      "metadata": {
        "colab": {
          "base_uri": "https://localhost:8080/"
        },
        "id": "8lOaQ22Lmpym",
        "outputId": "76333db5-27c4-4ff0-a8a7-b209bfb3210f"
      },
      "execution_count": 8,
      "outputs": [
        {
          "output_type": "stream",
          "name": "stdout",
          "text": [
            "categorical_crossentropy\n",
            "<keras.optimizer_v2.gradient_descent.SGD object at 0x7f822c265d50>\n",
            "[]\n",
            "<tf.Variable 'learning_rate:0' shape=() dtype=float32, numpy=0.01>\n"
          ]
        }
      ]
    },
    {
      "cell_type": "markdown",
      "source": [
        "Forma mais flexível de compilar o modelo."
      ],
      "metadata": {
        "id": "FGsNIhPSpmQP"
      }
    },
    {
      "cell_type": "code",
      "source": [
        "opt = tf.keras.optimizers.Adam(learning_rate = 0.005)\n",
        "acc = tf.keras.metrics.SparseCategoricalAccuracy()\n",
        "mae = tf.keras.metrics.MeanAbsoluteError()\n",
        "\n",
        "model.compile(optimizer=opt,\n",
        "              loss='categorical_crossentropy', \n",
        "              metrics=[acc, mae]) "
      ],
      "metadata": {
        "id": "NCd2IR9Nnkqz"
      },
      "execution_count": 9,
      "outputs": []
    },
    {
      "cell_type": "code",
      "source": [
        "print(model.loss)\n",
        "print(model.optimizer)\n",
        "print(model.metrics)\n",
        "print(model.optimizer.lr)"
      ],
      "metadata": {
        "colab": {
          "base_uri": "https://localhost:8080/"
        },
        "id": "otIJBybAp1M7",
        "outputId": "476d6662-54e5-435e-ec6c-538d4f0588dd"
      },
      "execution_count": 10,
      "outputs": [
        {
          "output_type": "stream",
          "name": "stdout",
          "text": [
            "categorical_crossentropy\n",
            "<keras.optimizer_v2.adam.Adam object at 0x7f822bbf37d0>\n",
            "[]\n",
            "<tf.Variable 'learning_rate:0' shape=() dtype=float32, numpy=0.005>\n"
          ]
        }
      ]
    },
    {
      "cell_type": "code",
      "source": [
        ""
      ],
      "metadata": {
        "id": "-kMfCEi3p6HV"
      },
      "execution_count": null,
      "outputs": []
    }
  ]
}