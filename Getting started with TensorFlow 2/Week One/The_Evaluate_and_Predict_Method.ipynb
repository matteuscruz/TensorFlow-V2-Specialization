{
  "nbformat": 4,
  "nbformat_minor": 0,
  "metadata": {
    "colab": {
      "name": "The_Evaluate_and_Predict_Method.ipynb",
      "provenance": []
    },
    "kernelspec": {
      "name": "python3",
      "display_name": "Python 3"
    },
    "language_info": {
      "name": "python"
    }
  },
  "cells": [
    {
      "cell_type": "markdown",
      "source": [
        "Importando as bilbiotecas:"
      ],
      "metadata": {
        "id": "k5ioLis_i35Y"
      }
    },
    {
      "cell_type": "code",
      "execution_count": 1,
      "metadata": {
        "id": "IvCSQpQVinkT"
      },
      "outputs": [],
      "source": [
        "from tensorflow.keras.layers import Dense, Flatten, Conv2D, MaxPooling2D\n",
        "from tensorflow.keras.preprocessing import image\n",
        "from tensorflow.keras.models import Sequential\n",
        "import matplotlib.pyplot as plt\n",
        "import tensorflow as tf\n",
        "import pandas as pd\n",
        "import numpy as np"
      ]
    },
    {
      "cell_type": "markdown",
      "source": [
        "Desenvolvendo o modelo:"
      ],
      "metadata": {
        "id": "cPobH5lOi9HG"
      }
    },
    {
      "cell_type": "code",
      "source": [
        "model = Sequential([\n",
        "  Conv2D(16, (3, 3), activation='relu', input_shape=(28, 28, 1)),\n",
        "  MaxPooling2D((3, 3)),\n",
        "  Flatten(),\n",
        "  Dense(10, activation='softmax')\n",
        "])"
      ],
      "metadata": {
        "id": "mNc_T_D0i3qY"
      },
      "execution_count": 2,
      "outputs": []
    },
    {
      "cell_type": "code",
      "source": [
        "model.summary()"
      ],
      "metadata": {
        "colab": {
          "base_uri": "https://localhost:8080/"
        },
        "id": "oYeoyVHakhnw",
        "outputId": "938a7bf4-a3e5-48a2-a533-07716ff8f820"
      },
      "execution_count": 3,
      "outputs": [
        {
          "output_type": "stream",
          "name": "stdout",
          "text": [
            "Model: \"sequential\"\n",
            "_________________________________________________________________\n",
            " Layer (type)                Output Shape              Param #   \n",
            "=================================================================\n",
            " conv2d (Conv2D)             (None, 26, 26, 16)        160       \n",
            "                                                                 \n",
            " max_pooling2d (MaxPooling2D  (None, 8, 8, 16)         0         \n",
            " )                                                               \n",
            "                                                                 \n",
            " flatten (Flatten)           (None, 1024)              0         \n",
            "                                                                 \n",
            " dense (Dense)               (None, 10)                10250     \n",
            "                                                                 \n",
            "=================================================================\n",
            "Total params: 10,410\n",
            "Trainable params: 10,410\n",
            "Non-trainable params: 0\n",
            "_________________________________________________________________\n"
          ]
        }
      ]
    },
    {
      "cell_type": "markdown",
      "source": [
        "Compilando o modelo:"
      ],
      "metadata": {
        "id": "20IBDulRjAIG"
      }
    },
    {
      "cell_type": "code",
      "source": [
        "opt = tf.keras.optimizers.Adam(learning_rate=0.005)\n",
        "acc = tf.keras.metrics.SparseCategoricalAccuracy()\n",
        "mae = tf.keras.metrics.MeanAbsoluteError()"
      ],
      "metadata": {
        "id": "U3CZYk7HjCdW"
      },
      "execution_count": 4,
      "outputs": []
    },
    {
      "cell_type": "code",
      "source": [
        "model.compile(\n",
        "    optimizer = opt,\n",
        "    loss = 'sparse_categorical_crossentropy',\n",
        "    metrics = [acc, mae]\n",
        ")"
      ],
      "metadata": {
        "id": "wvrTpH1InVtC"
      },
      "execution_count": 5,
      "outputs": []
    },
    {
      "cell_type": "code",
      "source": [
        "print(model.loss)\n",
        "print(model.optimizer)\n",
        "print(model.metrics)\n",
        "print(model.optimizer.lr)"
      ],
      "metadata": {
        "colab": {
          "base_uri": "https://localhost:8080/"
        },
        "id": "abD6ejNdnj_r",
        "outputId": "015453ed-145a-48db-f891-8cea37e86c3f"
      },
      "execution_count": 6,
      "outputs": [
        {
          "output_type": "stream",
          "name": "stdout",
          "text": [
            "sparse_categorical_crossentropy\n",
            "<keras.optimizer_v2.adam.Adam object at 0x7f420e63a810>\n",
            "[]\n",
            "<tf.Variable 'learning_rate:0' shape=() dtype=float32, numpy=0.005>\n"
          ]
        }
      ]
    },
    {
      "cell_type": "markdown",
      "source": [
        "Importando o dataset:"
      ],
      "metadata": {
        "id": "rs9UWqN_jr4F"
      }
    },
    {
      "cell_type": "code",
      "source": [
        "fashion_mnist_data = tf.keras.datasets.fashion_mnist\n",
        "(train_images, train_labels), (test_images, test_labels) = fashion_mnist_data.load_data()"
      ],
      "metadata": {
        "id": "Jp8FPDfijqyl",
        "colab": {
          "base_uri": "https://localhost:8080/"
        },
        "outputId": "a537b2fc-01e3-4f35-eed0-87095c357fca"
      },
      "execution_count": 7,
      "outputs": [
        {
          "output_type": "stream",
          "name": "stdout",
          "text": [
            "Downloading data from https://storage.googleapis.com/tensorflow/tf-keras-datasets/train-labels-idx1-ubyte.gz\n",
            "32768/29515 [=================================] - 0s 0us/step\n",
            "40960/29515 [=========================================] - 0s 0us/step\n",
            "Downloading data from https://storage.googleapis.com/tensorflow/tf-keras-datasets/train-images-idx3-ubyte.gz\n",
            "26427392/26421880 [==============================] - 0s 0us/step\n",
            "26435584/26421880 [==============================] - 0s 0us/step\n",
            "Downloading data from https://storage.googleapis.com/tensorflow/tf-keras-datasets/t10k-labels-idx1-ubyte.gz\n",
            "16384/5148 [===============================================================================================] - 0s 0us/step\n",
            "Downloading data from https://storage.googleapis.com/tensorflow/tf-keras-datasets/t10k-images-idx3-ubyte.gz\n",
            "4423680/4422102 [==============================] - 0s 0us/step\n",
            "4431872/4422102 [==============================] - 0s 0us/step\n"
          ]
        }
      ]
    },
    {
      "cell_type": "code",
      "source": [
        "# Imprimindo o formato do dataset\n",
        "train_images.shape"
      ],
      "metadata": {
        "colab": {
          "base_uri": "https://localhost:8080/"
        },
        "id": "E4_xpFQ_n84Z",
        "outputId": "68947206-5e36-4191-fbd3-e836fcb91ff7"
      },
      "execution_count": 8,
      "outputs": [
        {
          "output_type": "execute_result",
          "data": {
            "text/plain": [
              "(60000, 28, 28)"
            ]
          },
          "metadata": {},
          "execution_count": 8
        }
      ]
    },
    {
      "cell_type": "code",
      "source": [
        "# Definindo os rotulos\n",
        "labels = [\n",
        "    'T-shirt/top',\n",
        "    'Trouser',\n",
        "    'Pullover',\n",
        "    'Dress',\n",
        "    'Coat',\n",
        "    'Sandal',\n",
        "    'Shirt',\n",
        "    'Sneaker',\n",
        "    'Bag',\n",
        "    'Ankle boot'\n",
        "]"
      ],
      "metadata": {
        "id": "d_jqWo3AoDme"
      },
      "execution_count": 9,
      "outputs": []
    },
    {
      "cell_type": "code",
      "source": [
        "# Redimensionar os valores da imagem de modo a que fiquem entre 0 e 1.\n",
        "train_images = train_images / 255.\n",
        "test_images = test_images / 255."
      ],
      "metadata": {
        "id": "6XIySGYzoR1J"
      },
      "execution_count": 10,
      "outputs": []
    },
    {
      "cell_type": "code",
      "source": [
        "# Exibindo uma imagem\n",
        "i = 0\n",
        "img = train_images[i,:,:]\n",
        "plt.imshow(img)\n",
        "plt.show()\n",
        "print(f\"label: {labels[train_labels[i]]}\")"
      ],
      "metadata": {
        "colab": {
          "base_uri": "https://localhost:8080/",
          "height": 282
        },
        "id": "PTJEv3oXomIw",
        "outputId": "05ebffa0-804e-4d32-bdac-666201186b26"
      },
      "execution_count": 11,
      "outputs": [
        {
          "output_type": "display_data",
          "data": {
            "text/plain": [
              "<Figure size 432x288 with 1 Axes>"
            ],
            "image/png": "[encoded data removed]"
          },
          "metadata": {
            "needs_background": "light"
          }
        },
        {
          "output_type": "stream",
          "name": "stdout",
          "text": [
            "label: Ankle boot\n"
          ]
        }
      ]
    },
    {
      "cell_type": "markdown",
      "source": [
        "Treinando o modelo:"
      ],
      "metadata": {
        "id": "jMk0kZimjC_t"
      }
    },
    {
      "cell_type": "code",
      "source": [
        "model.fit(train_images[..., np.newaxis], train_labels, epochs=2, batch_size=256)"
      ],
      "metadata": {
        "colab": {
          "base_uri": "https://localhost:8080/"
        },
        "id": "0CttIqbyjEga",
        "outputId": "abcd446b-d2a4-49b3-82fa-589dbde9c239"
      },
      "execution_count": 12,
      "outputs": [
        {
          "output_type": "stream",
          "name": "stdout",
          "text": [
            "Epoch 1/2\n",
            "235/235 [==============================] - 22s 88ms/step - loss: 0.5834 - sparse_categorical_accuracy: 0.7938 - mean_absolute_error: 4.4200\n",
            "Epoch 2/2\n",
            "235/235 [==============================] - 15s 65ms/step - loss: 0.3904 - sparse_categorical_accuracy: 0.8613 - mean_absolute_error: 4.4200\n"
          ]
        },
        {
          "output_type": "execute_result",
          "data": {
            "text/plain": [
              "<keras.callbacks.History at 0x7f41930e4550>"
            ]
          },
          "metadata": {},
          "execution_count": 12
        }
      ]
    },
    {
      "cell_type": "code",
      "source": [
        "history = model.fit(train_images[..., np.newaxis], train_labels, epochs=8, batch_size=256, verbose=2)"
      ],
      "metadata": {
        "colab": {
          "base_uri": "https://localhost:8080/"
        },
        "id": "RyxyBezGppua",
        "outputId": "217c3b53-7b68-4c4f-9baf-159f3015e324"
      },
      "execution_count": 13,
      "outputs": [
        {
          "output_type": "stream",
          "name": "stdout",
          "text": [
            "Epoch 1/8\n",
            "235/235 - 13s - loss: 0.3513 - sparse_categorical_accuracy: 0.8756 - mean_absolute_error: 4.4200 - 13s/epoch - 56ms/step\n",
            "Epoch 2/8\n",
            "235/235 - 13s - loss: 0.3327 - sparse_categorical_accuracy: 0.8823 - mean_absolute_error: 4.4200 - 13s/epoch - 56ms/step\n",
            "Epoch 3/8\n",
            "235/235 - 13s - loss: 0.3132 - sparse_categorical_accuracy: 0.8882 - mean_absolute_error: 4.4200 - 13s/epoch - 56ms/step\n",
            "Epoch 4/8\n",
            "235/235 - 13s - loss: 0.3034 - sparse_categorical_accuracy: 0.8914 - mean_absolute_error: 4.4200 - 13s/epoch - 56ms/step\n",
            "Epoch 5/8\n",
            "235/235 - 13s - loss: 0.2950 - sparse_categorical_accuracy: 0.8945 - mean_absolute_error: 4.4200 - 13s/epoch - 56ms/step\n",
            "Epoch 6/8\n",
            "235/235 - 13s - loss: 0.2889 - sparse_categorical_accuracy: 0.8963 - mean_absolute_error: 4.4200 - 13s/epoch - 57ms/step\n",
            "Epoch 7/8\n",
            "235/235 - 14s - loss: 0.2806 - sparse_categorical_accuracy: 0.8993 - mean_absolute_error: 4.4200 - 14s/epoch - 58ms/step\n",
            "Epoch 8/8\n",
            "235/235 - 13s - loss: 0.2744 - sparse_categorical_accuracy: 0.9021 - mean_absolute_error: 4.4200 - 13s/epoch - 55ms/step\n"
          ]
        }
      ]
    },
    {
      "cell_type": "markdown",
      "source": [
        "Plotando o histórico de treinamento:"
      ],
      "metadata": {
        "id": "PLwz5J4Prjvl"
      }
    },
    {
      "cell_type": "code",
      "source": [
        "# Carregando os dados dentro de um dataframe\n",
        "df = pd.DataFrame(history.history)\n",
        "df.head()"
      ],
      "metadata": {
        "colab": {
          "base_uri": "https://localhost:8080/",
          "height": 206
        },
        "id": "7OvqTd3aroZF",
        "outputId": "922ff687-2b11-43f4-9c4f-0bbbdb44a6b2"
      },
      "execution_count": 14,
      "outputs": [
        {
          "output_type": "execute_result",
          "data": {
            "text/plain": [
              "       loss  sparse_categorical_accuracy  mean_absolute_error\n",
              "0  0.351326                     0.875633             4.420001\n",
              "1  0.332750                     0.882283             4.420000\n",
              "2  0.313206                     0.888233             4.420001\n",
              "3  0.303448                     0.891383             4.420001\n",
              "4  0.295019                     0.894450             4.419999"
            ],
            "text/html": [
              "\n",
              "  <div id=\"df-d6f94dab-6f0e-41a1-b3fc-dc33b3cf93ca\">\n",
              "    <div class=\"colab-df-container\">\n",
              "      <div>\n",
              "<style scoped>\n",
              "    .dataframe tbody tr th:only-of-type {\n",
              "        vertical-align: middle;\n",
              "    }\n",
              "\n",
              "    .dataframe tbody tr th {\n",
              "        vertical-align: top;\n",
              "    }\n",
              "\n",
              "    .dataframe thead th {\n",
              "        text-align: right;\n",
              "    }\n",
              "</style>\n",
              "<table border=\"1\" class=\"dataframe\">\n",
              "  <thead>\n",
              "    <tr style=\"text-align: right;\">\n",
              "      <th></th>\n",
              "      <th>loss</th>\n",
              "      <th>sparse_categorical_accuracy</th>\n",
              "      <th>mean_absolute_error</th>\n",
              "    </tr>\n",
              "  </thead>\n",
              "  <tbody>\n",
              "    <tr>\n",
              "      <th>0</th>\n",
              "      <td>0.351326</td>\n",
              "      <td>0.875633</td>\n",
              "      <td>4.420001</td>\n",
              "    </tr>\n",
              "    <tr>\n",
              "      <th>1</th>\n",
              "      <td>0.332750</td>\n",
              "      <td>0.882283</td>\n",
              "      <td>4.420000</td>\n",
              "    </tr>\n",
              "    <tr>\n",
              "      <th>2</th>\n",
              "      <td>0.313206</td>\n",
              "      <td>0.888233</td>\n",
              "      <td>4.420001</td>\n",
              "    </tr>\n",
              "    <tr>\n",
              "      <th>3</th>\n",
              "      <td>0.303448</td>\n",
              "      <td>0.891383</td>\n",
              "      <td>4.420001</td>\n",
              "    </tr>\n",
              "    <tr>\n",
              "      <th>4</th>\n",
              "      <td>0.295019</td>\n",
              "      <td>0.894450</td>\n",
              "      <td>4.419999</td>\n",
              "    </tr>\n",
              "  </tbody>\n",
              "</table>\n",
              "</div>\n",
              "      <button class=\"colab-df-convert\" onclick=\"convertToInteractive('df-d6f94dab-6f0e-41a1-b3fc-dc33b3cf93ca')\"\n",
              "              title=\"Convert this dataframe to an interactive table.\"\n",
              "              style=\"display:none;\">\n",
              "        \n",
              "  <svg xmlns=\"http://www.w3.org/2000/svg\" height=\"24px\"viewBox=\"0 0 24 24\"\n",
              "       width=\"24px\">\n",
              "    <path d=\"M0 0h24v24H0V0z\" fill=\"none\"/>\n",
              "    <path d=\"M18.56 5.44l.94 2.06.94-2.06 2.06-.94-2.06-.94-.94-2.06-.94 2.06-2.06.94zm-11 1L8.5 8.5l.94-2.06 2.06-.94-2.06-.94L8.5 2.5l-.94 2.06-2.06.94zm10 10l.94 2.06.94-2.06 2.06-.94-2.06-.94-.94-2.06-.94 2.06-2.06.94z\"/><path d=\"M17.41 7.96l-1.37-1.37c-.4-.4-.92-.59-1.43-.59-.52 0-1.04.2-1.43.59L10.3 9.45l-7.72 7.72c-.78.78-.78 2.05 0 2.83L4 21.41c.39.39.9.59 1.41.59.51 0 1.02-.2 1.41-.59l7.78-7.78 2.81-2.81c.8-.78.8-2.07 0-2.86zM5.41 20L4 18.59l7.72-7.72 1.47 1.35L5.41 20z\"/>\n",
              "  </svg>\n",
              "      </button>\n",
              "      \n",
              "  <style>\n",
              "    .colab-df-container {\n",
              "      display:flex;\n",
              "      flex-wrap:wrap;\n",
              "      gap: 12px;\n",
              "    }\n",
              "\n",
              "    .colab-df-convert {\n",
              "      background-color: #E8F0FE;\n",
              "      border: none;\n",
              "      border-radius: 50%;\n",
              "      cursor: pointer;\n",
              "      display: none;\n",
              "      fill: #1967D2;\n",
              "      height: 32px;\n",
              "      padding: 0 0 0 0;\n",
              "      width: 32px;\n",
              "    }\n",
              "\n",
              "    .colab-df-convert:hover {\n",
              "      background-color: #E2EBFA;\n",
              "      box-shadow: 0px 1px 2px rgba(60, 64, 67, 0.3), 0px 1px 3px 1px rgba(60, 64, 67, 0.15);\n",
              "      fill: #174EA6;\n",
              "    }\n",
              "\n",
              "    [theme=dark] .colab-df-convert {\n",
              "      background-color: #3B4455;\n",
              "      fill: #D2E3FC;\n",
              "    }\n",
              "\n",
              "    [theme=dark] .colab-df-convert:hover {\n",
              "      background-color: #434B5C;\n",
              "      box-shadow: 0px 1px 3px 1px rgba(0, 0, 0, 0.15);\n",
              "      filter: drop-shadow(0px 1px 2px rgba(0, 0, 0, 0.3));\n",
              "      fill: #FFFFFF;\n",
              "    }\n",
              "  </style>\n",
              "\n",
              "      <script>\n",
              "        const buttonEl =\n",
              "          document.querySelector('#df-d6f94dab-6f0e-41a1-b3fc-dc33b3cf93ca button.colab-df-convert');\n",
              "        buttonEl.style.display =\n",
              "          google.colab.kernel.accessAllowed ? 'block' : 'none';\n",
              "\n",
              "        async function convertToInteractive(key) {\n",
              "          const element = document.querySelector('#df-d6f94dab-6f0e-41a1-b3fc-dc33b3cf93ca');\n",
              "          const dataTable =\n",
              "            await google.colab.kernel.invokeFunction('convertToInteractive',\n",
              "                                                     [key], {});\n",
              "          if (!dataTable) return;\n",
              "\n",
              "          const docLinkHtml = 'Like what you see? Visit the ' +\n",
              "            '<a target=\"_blank\" href=https://colab.research.google.com/notebooks/data_table.ipynb>data table notebook</a>'\n",
              "            + ' to learn more about interactive tables.';\n",
              "          element.innerHTML = '';\n",
              "          dataTable['output_type'] = 'display_data';\n",
              "          await google.colab.output.renderOutput(dataTable, element);\n",
              "          const docLink = document.createElement('div');\n",
              "          docLink.innerHTML = docLinkHtml;\n",
              "          element.appendChild(docLink);\n",
              "        }\n",
              "      </script>\n",
              "    </div>\n",
              "  </div>\n",
              "  "
            ]
          },
          "metadata": {},
          "execution_count": 14
        }
      ]
    },
    {
      "cell_type": "code",
      "source": [
        "# Plotando a perda\n",
        "loss_plot = df.plot(y='loss', title='Perda vs Épocas', legend=False)"
      ],
      "metadata": {
        "colab": {
          "base_uri": "https://localhost:8080/",
          "height": 283
        },
        "id": "e2KvmlO7uEQz",
        "outputId": "76318d23-aa27-47d3-9733-cd01ee15c8c9"
      },
      "execution_count": 15,
      "outputs": [
        {
          "output_type": "display_data",
          "data": {
            "text/plain": [
              "<Figure size 432x288 with 1 Axes>"
            ],
            "image/png": "[encoded data removed]"
          },
          "metadata": {
            "needs_background": "light"
          }
        }
      ]
    },
    {
      "cell_type": "code",
      "source": [
        "# Plotando a acurácia\n",
        "loss_plot = df.plot(y='sparse_categorical_accuracy', title='Acurácia vs Épocas', legend=False)"
      ],
      "metadata": {
        "colab": {
          "base_uri": "https://localhost:8080/",
          "height": 283
        },
        "id": "o44XgF8Hs5zz",
        "outputId": "f5536d4b-0cf0-4eda-c4b9-1b8f8ade0b6e"
      },
      "execution_count": 16,
      "outputs": [
        {
          "output_type": "display_data",
          "data": {
            "text/plain": [
              "<Figure size 432x288 with 1 Axes>"
            ],
            "image/png": "[encoded data removed]"
          },
          "metadata": {
            "needs_background": "light"
          }
        }
      ]
    },
    {
      "cell_type": "code",
      "source": [
        "# Plotando o Erro quadrático Absoluto\n",
        "loss_plot = df.plot(y='mean_absolute_error', title='MAE vs Épocas', legend=False)"
      ],
      "metadata": {
        "colab": {
          "base_uri": "https://localhost:8080/",
          "height": 283
        },
        "id": "osBK0CVgufAz",
        "outputId": "193dce89-cf0d-45e1-9d1f-0503504b2e28"
      },
      "execution_count": 17,
      "outputs": [
        {
          "output_type": "display_data",
          "data": {
            "text/plain": [
              "<Figure size 432x288 with 1 Axes>"
            ],
            "image/png": "[encoded data removed]"
          },
          "metadata": {
            "needs_background": "light"
          }
        }
      ]
    },
    {
      "cell_type": "markdown",
      "source": [
        "Avaliando o desempenho da rede:\n",
        "\n"
      ],
      "metadata": {
        "id": "K4yQQKGWzRwj"
      }
    },
    {
      "cell_type": "code",
      "source": [
        "test_loss, test_accuracy, test_mae = model.evaluate(test_images, test_labels, verbose=2)"
      ],
      "metadata": {
        "id": "G7dCrh5xutu3",
        "colab": {
          "base_uri": "https://localhost:8080/"
        },
        "outputId": "d02ab17c-8e34-4ee2-fa03-766f5a42a73e"
      },
      "execution_count": 20,
      "outputs": [
        {
          "output_type": "stream",
          "name": "stdout",
          "text": [
            "313/313 - 1s - loss: 0.3134 - sparse_categorical_accuracy: 0.8872 - mean_absolute_error: 4.4200 - 1s/epoch - 5ms/step\n"
          ]
        }
      ]
    },
    {
      "cell_type": "markdown",
      "source": [
        "Fazendo predições com o modelo desenvolvido:"
      ],
      "metadata": {
        "id": "JC8Zx8AtC3B0"
      }
    },
    {
      "cell_type": "code",
      "source": [
        "random_inx = np.random.choice(test_images.shape[0])\n",
        "inx = 30\n",
        "\n",
        "test_image = test_images[inx]\n",
        "plt.imshow(test_image)\n",
        "plt.show()\n",
        "print(f\"Label: {labels[test_labels[inx]]}\")"
      ],
      "metadata": {
        "colab": {
          "base_uri": "https://localhost:8080/",
          "height": 282
        },
        "id": "yVkJxYIbCppb",
        "outputId": "84c40e47-6aab-4c5e-ccc1-15c2c7e5505f"
      },
      "execution_count": 21,
      "outputs": [
        {
          "output_type": "display_data",
          "data": {
            "text/plain": [
              "<Figure size 432x288 with 1 Axes>"
            ],
            "image/png": "[encoded data removed]"
          },
          "metadata": {
            "needs_background": "light"
          }
        },
        {
          "output_type": "stream",
          "name": "stdout",
          "text": [
            "Label: Bag\n"
          ]
        }
      ]
    },
    {
      "cell_type": "code",
      "source": [
        "predictions = model.predict(test_image[np.newaxis, ..., np.newaxis])\n",
        "print(f\"Model prediction {labels[np.argmax(predictions)]}\")"
      ],
      "metadata": {
        "colab": {
          "base_uri": "https://localhost:8080/"
        },
        "id": "Z8WkY19RDQhs",
        "outputId": "9abbe21b-d160-4c4d-d31d-16f1b4a06262"
      },
      "execution_count": 24,
      "outputs": [
        {
          "output_type": "stream",
          "name": "stdout",
          "text": [
            "Model prediction Bag\n"
          ]
        }
      ]
    },
    {
      "cell_type": "code",
      "source": [
        ""
      ],
      "metadata": {
        "id": "CT0MXP4lDdCk"
      },
      "execution_count": null,
      "outputs": []
    }
  ]
}