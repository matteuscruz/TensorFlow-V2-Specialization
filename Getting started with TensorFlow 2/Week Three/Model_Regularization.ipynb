{
  "nbformat": 4,
  "nbformat_minor": 0,
  "metadata": {
    "colab": {
      "name": "Model_Regularization.ipynb",
      "provenance": []
    },
    "kernelspec": {
      "name": "python3",
      "display_name": "Python 3"
    },
    "language_info": {
      "name": "python"
    }
  },
  "cells": [
    {
      "cell_type": "markdown",
      "source": [
        "Importando as bibliotecas:"
      ],
      "metadata": {
        "id": "B2Fylt2cdkF0"
      }
    },
    {
      "cell_type": "code",
      "execution_count": 32,
      "metadata": {
        "id": "5vbCM2-cUu-D"
      },
      "outputs": [],
      "source": [
        "from tensorflow.keras.models import Sequential\n",
        "from tensorflow.keras.layers import Dropout, Dense\n",
        "from tensorflow.keras import regularizers\n",
        "from sklearn.datasets import load_diabetes\n",
        "from sklearn.model_selection import train_test_split\n",
        "import matplotlib.pyplot as plt"
      ]
    },
    {
      "cell_type": "markdown",
      "source": [
        "Importando o dataset:"
      ],
      "metadata": {
        "id": "X8BGCqqqdnpb"
      }
    },
    {
      "cell_type": "code",
      "source": [
        "diabetes_dataset = load_diabetes()\n",
        "print(diabetes_dataset[\"DESCR\"])"
      ],
      "metadata": {
        "colab": {
          "base_uri": "https://localhost:8080/"
        },
        "id": "23gBb9ZlYq3Y",
        "outputId": "91843afd-3800-46d7-9f88-b0367fcba68e"
      },
      "execution_count": 21,
      "outputs": [
        {
          "output_type": "stream",
          "name": "stdout",
          "text": [
            ".. _diabetes_dataset:\n",
            "\n",
            "Diabetes dataset\n",
            "----------------\n",
            "\n",
            "Ten baseline variables, age, sex, body mass index, average blood\n",
            "pressure, and six blood serum measurements were obtained for each of n =\n",
            "442 diabetes patients, as well as the response of interest, a\n",
            "quantitative measure of disease progression one year after baseline.\n",
            "\n",
            "**Data Set Characteristics:**\n",
            "\n",
            "  :Number of Instances: 442\n",
            "\n",
            "  :Number of Attributes: First 10 columns are numeric predictive values\n",
            "\n",
            "  :Target: Column 11 is a quantitative measure of disease progression one year after baseline\n",
            "\n",
            "  :Attribute Information:\n",
            "      - age     age in years\n",
            "      - sex\n",
            "      - bmi     body mass index\n",
            "      - bp      average blood pressure\n",
            "      - s1      tc, total serum cholesterol\n",
            "      - s2      ldl, low-density lipoproteins\n",
            "      - s3      hdl, high-density lipoproteins\n",
            "      - s4      tch, total cholesterol / HDL\n",
            "      - s5      ltg, possibly log of serum triglycerides level\n",
            "      - s6      glu, blood sugar level\n",
            "\n",
            "Note: Each of these 10 feature variables have been mean centered and scaled by the standard deviation times `n_samples` (i.e. the sum of squares of each column totals 1).\n",
            "\n",
            "Source URL:\n",
            "https://www4.stat.ncsu.edu/~boos/var.select/diabetes.html\n",
            "\n",
            "For more information see:\n",
            "Bradley Efron, Trevor Hastie, Iain Johnstone and Robert Tibshirani (2004) \"Least Angle Regression,\" Annals of Statistics (with discussion), 407-499.\n",
            "(https://web.stanford.edu/~hastie/Papers/LARS/LeastAngle_2002.pdf)\n"
          ]
        }
      ]
    },
    {
      "cell_type": "markdown",
      "source": [
        "Tratando o dataset:"
      ],
      "metadata": {
        "id": "mw6_n9ZSdrax"
      }
    },
    {
      "cell_type": "code",
      "source": [
        "# Definindo as entreadas e os resultados\n",
        "data = diabetes_dataset[\"data\"]\n",
        "targets = diabetes_dataset[\"target\"]"
      ],
      "metadata": {
        "id": "BfHycSomYxJ6"
      },
      "execution_count": 22,
      "outputs": []
    },
    {
      "cell_type": "code",
      "source": [
        "# Normalizando os dados (Esse procedimento torna as curvas de treinamento mais claras)\n",
        "targets = (targets - targets.mean(axis=0)) / targets.std()"
      ],
      "metadata": {
        "id": "GoGdTJzkY0sn"
      },
      "execution_count": 23,
      "outputs": []
    },
    {
      "cell_type": "code",
      "source": [
        "# Separando o dataset em treinamento e teste\n",
        "train_data, test_data, train_targets, test_targets = train_test_split(data, targets, test_size=0.1)"
      ],
      "metadata": {
        "id": "dEfqxjb5Y5em"
      },
      "execution_count": 24,
      "outputs": []
    },
    {
      "cell_type": "markdown",
      "source": [
        "Definindo o modelo:"
      ],
      "metadata": {
        "id": "3vTRk5SmdtLA"
      }
    },
    {
      "cell_type": "code",
      "source": [
        "def get_regularised_model(wd, rate): # wd = Weight Decay;\n",
        "  model = Sequential([\n",
        "      Dense(128, kernel_regularizer=regularizers.l2(wd), activation='relu', input_shape=(train_data.shape[1],)),\n",
        "      Dropout(rate),\n",
        "      Dense(128, kernel_regularizer=regularizers.l2(wd), activation='relu'),\n",
        "      Dropout(rate),\n",
        "      Dense(128, kernel_regularizer=regularizers.l2(wd), activation='relu'),\n",
        "      Dropout(rate),\n",
        "      Dense(128, kernel_regularizer=regularizers.l2(wd), activation='relu'),\n",
        "      Dropout(rate),\n",
        "      Dense(128, kernel_regularizer=regularizers.l2(wd), activation='relu'),\n",
        "      Dropout(rate),\n",
        "      Dense(128, kernel_regularizer=regularizers.l2(wd), activation='relu'),\n",
        "      Dense(1)\n",
        "  ])\n",
        "  return model"
      ],
      "metadata": {
        "id": "JOADVmHuVNOS"
      },
      "execution_count": 25,
      "outputs": []
    },
    {
      "cell_type": "code",
      "source": [
        "# Criando o modelo\n",
        "model = get_regularised_model(1e-5, 0.3)"
      ],
      "metadata": {
        "id": "PG_aTK49VmMO"
      },
      "execution_count": 26,
      "outputs": []
    },
    {
      "cell_type": "code",
      "source": [
        "# Complicando o modelo\n",
        "model.compile(optimizer='adam', loss='mse', metrics=['mae'])"
      ],
      "metadata": {
        "id": "HYizqsdTYKN-"
      },
      "execution_count": 27,
      "outputs": []
    },
    {
      "cell_type": "code",
      "source": [
        "# Treinando o modelo:\n",
        "history = model.fit(train_data, train_targets, epochs=100,\n",
        "                    validation_split=0.15, batch_size=64, verbose=False)"
      ],
      "metadata": {
        "id": "8eQvXofmcxbW"
      },
      "execution_count": 29,
      "outputs": []
    },
    {
      "cell_type": "code",
      "source": [
        "# Avaliando o modelo:\n",
        "model.evaluate(test_data, test_targets, verbose=2)"
      ],
      "metadata": {
        "colab": {
          "base_uri": "https://localhost:8080/"
        },
        "id": "KLEFHj-kdHzD",
        "outputId": "3b84180f-8e8c-456b-f1c0-03bf70175fd6"
      },
      "execution_count": 31,
      "outputs": [
        {
          "output_type": "stream",
          "name": "stdout",
          "text": [
            "2/2 - 0s - loss: 0.3802 - mae: 0.4815 - 45ms/epoch - 22ms/step\n"
          ]
        },
        {
          "output_type": "execute_result",
          "data": {
            "text/plain": [
              "[0.38018137216567993, 0.48145294189453125]"
            ]
          },
          "metadata": {},
          "execution_count": 31
        }
      ]
    },
    {
      "cell_type": "code",
      "source": [
        "# Plotando a perda de treino e validação\n",
        "plt.plot(history.history['loss'])\n",
        "plt.plot(history.history['val_loss'])\n",
        "plt.show()"
      ],
      "metadata": {
        "colab": {
          "base_uri": "https://localhost:8080/",
          "height": 265
        },
        "id": "iFVViAorc8fo",
        "outputId": "98ae6b54-5181-4069-eec1-c5d9a76ea7e4"
      },
      "execution_count": 33,
      "outputs": [
        {
          "output_type": "display_data",
          "data": {
            "text/plain": [
              "<Figure size 432x288 with 1 Axes>"
            ],
            "image/png": "[encoded data removed]"
          },
          "metadata": {
            "needs_background": "light"
          }
        }
      ]
    },
    {
      "cell_type": "code",
      "source": [
        ""
      ],
      "metadata": {
        "id": "IuUo3DGZdglg"
      },
      "execution_count": null,
      "outputs": []
    }
  ]
}