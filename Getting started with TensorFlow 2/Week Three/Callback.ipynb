{
  "nbformat": 4,
  "nbformat_minor": 0,
  "metadata": {
    "colab": {
      "name": "Callback.ipynb",
      "provenance": []
    },
    "kernelspec": {
      "name": "python3",
      "display_name": "Python 3"
    },
    "language_info": {
      "name": "python"
    }
  },
  "cells": [
    {
      "cell_type": "markdown",
      "source": [
        "Importando as bibliotecas:"
      ],
      "metadata": {
        "id": "B2Fylt2cdkF0"
      }
    },
    {
      "cell_type": "code",
      "execution_count": 5,
      "metadata": {
        "id": "5vbCM2-cUu-D"
      },
      "outputs": [],
      "source": [
        "from tensorflow.keras.models import Sequential\n",
        "from tensorflow.keras.layers import Dropout, Dense\n",
        "from tensorflow.keras import regularizers\n",
        "from sklearn.datasets import load_diabetes\n",
        "from sklearn.model_selection import train_test_split\n",
        "import matplotlib.pyplot as plt"
      ]
    },
    {
      "cell_type": "markdown",
      "source": [
        "Importando o dataset:"
      ],
      "metadata": {
        "id": "X8BGCqqqdnpb"
      }
    },
    {
      "cell_type": "code",
      "source": [
        "diabetes_dataset = load_diabetes()\n",
        "print(diabetes_dataset[\"DESCR\"])"
      ],
      "metadata": {
        "colab": {
          "base_uri": "https://localhost:8080/"
        },
        "id": "23gBb9ZlYq3Y",
        "outputId": "eba60f5f-f258-4805-a63c-c2052914d89c"
      },
      "execution_count": 6,
      "outputs": [
        {
          "output_type": "stream",
          "name": "stdout",
          "text": [
            ".. _diabetes_dataset:\n",
            "\n",
            "Diabetes dataset\n",
            "----------------\n",
            "\n",
            "Ten baseline variables, age, sex, body mass index, average blood\n",
            "pressure, and six blood serum measurements were obtained for each of n =\n",
            "442 diabetes patients, as well as the response of interest, a\n",
            "quantitative measure of disease progression one year after baseline.\n",
            "\n",
            "**Data Set Characteristics:**\n",
            "\n",
            "  :Number of Instances: 442\n",
            "\n",
            "  :Number of Attributes: First 10 columns are numeric predictive values\n",
            "\n",
            "  :Target: Column 11 is a quantitative measure of disease progression one year after baseline\n",
            "\n",
            "  :Attribute Information:\n",
            "      - age     age in years\n",
            "      - sex\n",
            "      - bmi     body mass index\n",
            "      - bp      average blood pressure\n",
            "      - s1      tc, total serum cholesterol\n",
            "      - s2      ldl, low-density lipoproteins\n",
            "      - s3      hdl, high-density lipoproteins\n",
            "      - s4      tch, total cholesterol / HDL\n",
            "      - s5      ltg, possibly log of serum triglycerides level\n",
            "      - s6      glu, blood sugar level\n",
            "\n",
            "Note: Each of these 10 feature variables have been mean centered and scaled by the standard deviation times `n_samples` (i.e. the sum of squares of each column totals 1).\n",
            "\n",
            "Source URL:\n",
            "https://www4.stat.ncsu.edu/~boos/var.select/diabetes.html\n",
            "\n",
            "For more information see:\n",
            "Bradley Efron, Trevor Hastie, Iain Johnstone and Robert Tibshirani (2004) \"Least Angle Regression,\" Annals of Statistics (with discussion), 407-499.\n",
            "(https://web.stanford.edu/~hastie/Papers/LARS/LeastAngle_2002.pdf)\n"
          ]
        }
      ]
    },
    {
      "cell_type": "markdown",
      "source": [
        "Tratando o dataset:"
      ],
      "metadata": {
        "id": "mw6_n9ZSdrax"
      }
    },
    {
      "cell_type": "code",
      "source": [
        "# Definindo as entreadas e os resultados\n",
        "data = diabetes_dataset[\"data\"]\n",
        "targets = diabetes_dataset[\"target\"]"
      ],
      "metadata": {
        "id": "BfHycSomYxJ6"
      },
      "execution_count": 7,
      "outputs": []
    },
    {
      "cell_type": "code",
      "source": [
        "# Normalizando os dados (Esse procedimento torna as curvas de treinamento mais claras)\n",
        "targets = (targets - targets.mean(axis=0)) / targets.std()"
      ],
      "metadata": {
        "id": "GoGdTJzkY0sn"
      },
      "execution_count": 8,
      "outputs": []
    },
    {
      "cell_type": "code",
      "source": [
        "# Separando o dataset em treinamento e teste\n",
        "train_data, test_data, train_targets, test_targets = train_test_split(data, targets, test_size=0.1)"
      ],
      "metadata": {
        "id": "dEfqxjb5Y5em"
      },
      "execution_count": 9,
      "outputs": []
    },
    {
      "cell_type": "markdown",
      "source": [
        "Definindo o modelo:"
      ],
      "metadata": {
        "id": "3vTRk5SmdtLA"
      }
    },
    {
      "cell_type": "code",
      "source": [
        "def get_regularised_model(wd, rate): # wd = Weight Decay;\n",
        "  model = Sequential([\n",
        "      Dense(128, kernel_regularizer=regularizers.l2(wd), activation='relu', input_shape=(train_data.shape[1],)),\n",
        "      Dropout(rate),\n",
        "      Dense(128, kernel_regularizer=regularizers.l2(wd), activation='relu'),\n",
        "      Dropout(rate),\n",
        "      Dense(128, kernel_regularizer=regularizers.l2(wd), activation='relu'),\n",
        "      Dropout(rate),\n",
        "      Dense(128, kernel_regularizer=regularizers.l2(wd), activation='relu'),\n",
        "      Dropout(rate),\n",
        "      Dense(128, kernel_regularizer=regularizers.l2(wd), activation='relu'),\n",
        "      Dropout(rate),\n",
        "      Dense(128, kernel_regularizer=regularizers.l2(wd), activation='relu'),\n",
        "      Dense(1)\n",
        "  ])\n",
        "  return model"
      ],
      "metadata": {
        "id": "JOADVmHuVNOS"
      },
      "execution_count": 10,
      "outputs": []
    },
    {
      "cell_type": "code",
      "source": [
        "# Criando o modelo\n",
        "model = get_regularised_model(1e-5, 0.3)"
      ],
      "metadata": {
        "id": "PG_aTK49VmMO"
      },
      "execution_count": 11,
      "outputs": []
    },
    {
      "cell_type": "code",
      "source": [
        "# Complicando o modelo\n",
        "model.compile(optimizer='adam', loss='mse', metrics=['mae'])"
      ],
      "metadata": {
        "id": "HYizqsdTYKN-"
      },
      "execution_count": 12,
      "outputs": []
    },
    {
      "cell_type": "code",
      "source": [
        "# Treinando o modelo:\n",
        "history = model.fit(train_data, train_targets, epochs=100,\n",
        "                    validation_split=0.15, batch_size=64, verbose=False)"
      ],
      "metadata": {
        "id": "8eQvXofmcxbW"
      },
      "execution_count": 13,
      "outputs": []
    },
    {
      "cell_type": "code",
      "source": [
        "# Avaliando o modelo:\n",
        "model.evaluate(test_data, test_targets, verbose=2)"
      ],
      "metadata": {
        "colab": {
          "base_uri": "https://localhost:8080/"
        },
        "id": "KLEFHj-kdHzD",
        "outputId": "b7a24621-39fe-45d4-d620-21a8f94e7c95"
      },
      "execution_count": 14,
      "outputs": [
        {
          "output_type": "stream",
          "name": "stdout",
          "text": [
            "2/2 - 0s - loss: 0.5547 - mae: 0.5831 - 33ms/epoch - 16ms/step\n"
          ]
        },
        {
          "output_type": "execute_result",
          "data": {
            "text/plain": [
              "[0.5546724200248718, 0.5830936431884766]"
            ]
          },
          "metadata": {},
          "execution_count": 14
        }
      ]
    },
    {
      "cell_type": "code",
      "source": [
        "# Plotando a perda de treino e validação\n",
        "plt.plot(history.history['loss'])\n",
        "plt.plot(history.history['val_loss'])\n",
        "plt.show()"
      ],
      "metadata": {
        "colab": {
          "base_uri": "https://localhost:8080/",
          "height": 265
        },
        "id": "iFVViAorc8fo",
        "outputId": "72f146f1-8d2e-4b01-f40d-df732a33a2d3"
      },
      "execution_count": 15,
      "outputs": [
        {
          "output_type": "display_data",
          "data": {
            "text/plain": [
              "<Figure size 432x288 with 1 Axes>"
            ],
            "image/png": "[encoded data removed]"
          },
          "metadata": {
            "needs_background": "light"
          }
        }
      ]
    },
    {
      "cell_type": "markdown",
      "source": [
        "# Callback"
      ],
      "metadata": {
        "id": "7tnulyrDD3Bl"
      }
    },
    {
      "cell_type": "markdown",
      "source": [
        "Importando as bibliotecas:"
      ],
      "metadata": {
        "id": "nblp4x6vD5Et"
      }
    },
    {
      "cell_type": "code",
      "source": [
        "from tensorflow.keras.callbacks import Callback"
      ],
      "metadata": {
        "id": "IuUo3DGZdglg"
      },
      "execution_count": 16,
      "outputs": []
    },
    {
      "cell_type": "markdown",
      "source": [
        "Definindo os callbacks:"
      ],
      "metadata": {
        "id": "OJc8nMH7D7UC"
      }
    },
    {
      "cell_type": "markdown",
      "source": [
        "Treinamento:"
      ],
      "metadata": {
        "id": "k7sQDaveG-yk"
      }
    },
    {
      "cell_type": "code",
      "source": [
        "class TrainingCallback(Callback):\n",
        "\n",
        "  def on_train_begin(self, logs=None):\n",
        "    print(\"Starting training...\")\n",
        "\n",
        "  def on_epoch_begin(self, epoch, logs=None):\n",
        "    print(f\"Starting epoch {epoch}\")\n",
        "\n",
        "  def on_train_batch_begin(self, batch, logs=None):\n",
        "    print(f\"Training: Finished batch {batch}\")\n",
        "\n",
        "  def on_epoch_end(self, epoch, logs=None):\n",
        "    print(f\"Finished epoch {epoch}\")\n",
        "\n",
        "  def on_train_end(self, logs=None):\n",
        "    print(\"Finished training\")"
      ],
      "metadata": {
        "id": "psCJg2EvD6wB"
      },
      "execution_count": 17,
      "outputs": []
    },
    {
      "cell_type": "markdown",
      "source": [
        "Teste:"
      ],
      "metadata": {
        "id": "VYRMmkNBHDGL"
      }
    },
    {
      "cell_type": "code",
      "source": [
        "class TestingCallback(Callback):\n",
        "\n",
        "  def on_train_begin(self, logs=None):\n",
        "    print(\"Starting training...\")\n",
        "\n",
        "  def on_epoch_begin(self, epoch, logs=None):\n",
        "    print(f\"Starting epoch {epoch}\")\n",
        "\n",
        "  def on_train_batch_begin(self, batch, logs=None):\n",
        "    print(f\"Training: Finished batch {batch}\")\n",
        "\n",
        "  def on_epoch_end(self, epoch, logs=None):\n",
        "    print(f\"Finished epoch {epoch}\")\n",
        "\n",
        "  def on_train_end(self, logs=None):\n",
        "    print(\"Finished training\")"
      ],
      "metadata": {
        "id": "ebg-o2Y0G-av"
      },
      "execution_count": 27,
      "outputs": []
    },
    {
      "cell_type": "markdown",
      "source": [
        "Predição:"
      ],
      "metadata": {
        "id": "bR6FvGrdHFIW"
      }
    },
    {
      "cell_type": "code",
      "source": [
        "class PredictionCallback(Callback):\n",
        "\n",
        "  def on_train_begin(self, logs=None):\n",
        "    print(\"Starting training...\")\n",
        "\n",
        "  def on_epoch_begin(self, epoch, logs=None):\n",
        "    print(f\"Starting epoch {epoch}\")\n",
        "\n",
        "  def on_train_batch_begin(self, batch, logs=None):\n",
        "    print(f\"Training: Finished batch {batch}\")\n",
        "\n",
        "  def on_epoch_end(self, epoch, logs=None):\n",
        "    print(f\"Finished epoch {epoch}\")\n",
        "\n",
        "  def on_train_end(self, logs=None):\n",
        "    print(\"Finished training\")"
      ],
      "metadata": {
        "id": "padGZNYZHFbW"
      },
      "execution_count": 25,
      "outputs": []
    },
    {
      "cell_type": "markdown",
      "source": [
        "Reconstruindo o modelo:"
      ],
      "metadata": {
        "id": "FLWiRe3UECCC"
      }
    },
    {
      "cell_type": "code",
      "source": [
        "model = get_regularised_model(1e-5, 0.3)"
      ],
      "metadata": {
        "id": "IdJ_twJ7EBCE"
      },
      "execution_count": 18,
      "outputs": []
    },
    {
      "cell_type": "markdown",
      "source": [
        "Compilando o modelo:"
      ],
      "metadata": {
        "id": "n39M-NQiEPkL"
      }
    },
    {
      "cell_type": "code",
      "source": [
        "model.compile(optimizer='adam', loss='mse')"
      ],
      "metadata": {
        "id": "bVfN7vKrEO0r"
      },
      "execution_count": 19,
      "outputs": []
    },
    {
      "cell_type": "markdown",
      "source": [
        "Treinando o modelo e usando os callbacks:"
      ],
      "metadata": {
        "id": "4nRtccOqF9Qc"
      }
    },
    {
      "cell_type": "code",
      "source": [
        "model.fit(train_data, train_targets, epochs=3, batch_size=128, verbose=False, callbacks=[TrainingCallback()])"
      ],
      "metadata": {
        "colab": {
          "base_uri": "https://localhost:8080/"
        },
        "id": "iB4uEedvF8L0",
        "outputId": "e7492588-7a61-414e-e3c4-5e17b3bd3c28"
      },
      "execution_count": 23,
      "outputs": [
        {
          "output_type": "stream",
          "name": "stdout",
          "text": [
            "Starting training...\n",
            "Starting epoch 0\n",
            "Training: Finished batch 0\n",
            "Training: Finished batch 1\n",
            "Training: Finished batch 2\n",
            "Training: Finished batch 3\n",
            "Finished epoch 0\n",
            "Starting epoch 1\n",
            "Training: Finished batch 0\n",
            "Training: Finished batch 1\n",
            "Training: Finished batch 2\n",
            "Training: Finished batch 3\n",
            "Finished epoch 1\n",
            "Starting epoch 2\n",
            "Training: Finished batch 0\n",
            "Training: Finished batch 1\n",
            "Training: Finished batch 2\n",
            "Training: Finished batch 3\n",
            "Finished epoch 2\n",
            "Finished training\n"
          ]
        },
        {
          "output_type": "execute_result",
          "data": {
            "text/plain": [
              "<keras.callbacks.History at 0x7fd643186a10>"
            ]
          },
          "metadata": {},
          "execution_count": 23
        }
      ]
    },
    {
      "cell_type": "code",
      "source": [
        "model.evaluate(test_data, test_targets, verbose=False, callbacks=[TestingCallback()])"
      ],
      "metadata": {
        "colab": {
          "base_uri": "https://localhost:8080/"
        },
        "id": "46MCCrc2GSbw",
        "outputId": "6da8554d-a376-41fb-9e13-ece9eb783ebe"
      },
      "execution_count": 29,
      "outputs": [
        {
          "output_type": "execute_result",
          "data": {
            "text/plain": [
              "1.0964329242706299"
            ]
          },
          "metadata": {},
          "execution_count": 29
        }
      ]
    },
    {
      "cell_type": "code",
      "source": [
        "model.predict(test_data, verbose=False, callbacks=[PredictionCallback()])"
      ],
      "metadata": {
        "colab": {
          "base_uri": "https://localhost:8080/"
        },
        "id": "kKXiVUeDG6Q2",
        "outputId": "b2d55ba7-0fae-4537-9947-cfcb18639208"
      },
      "execution_count": 30,
      "outputs": [
        {
          "output_type": "execute_result",
          "data": {
            "text/plain": [
              "array([[ 0.0413634 ],\n",
              "       [ 0.05688161],\n",
              "       [ 0.06232541],\n",
              "       [ 0.05394328],\n",
              "       [ 0.08743695],\n",
              "       [-0.05518705],\n",
              "       [-0.05141607],\n",
              "       [ 0.0379139 ],\n",
              "       [ 0.10515036],\n",
              "       [ 0.05104319],\n",
              "       [ 0.08014592],\n",
              "       [ 0.00796125],\n",
              "       [ 0.04505251],\n",
              "       [ 0.00900286],\n",
              "       [ 0.06342535],\n",
              "       [-0.02537178],\n",
              "       [-0.0165905 ],\n",
              "       [-0.01185427],\n",
              "       [ 0.11567222],\n",
              "       [-0.04441807],\n",
              "       [-0.00871539],\n",
              "       [-0.05228184],\n",
              "       [ 0.02336003],\n",
              "       [ 0.09848506],\n",
              "       [-0.01178795],\n",
              "       [ 0.09790901],\n",
              "       [ 0.0800355 ],\n",
              "       [-0.03944593],\n",
              "       [ 0.04194496],\n",
              "       [-0.0524163 ],\n",
              "       [ 0.06425392],\n",
              "       [-0.05142479],\n",
              "       [-0.0170042 ],\n",
              "       [-0.0201246 ],\n",
              "       [-0.0557815 ],\n",
              "       [ 0.05342326],\n",
              "       [ 0.10356913],\n",
              "       [-0.05541667],\n",
              "       [ 0.00259036],\n",
              "       [-0.04516857],\n",
              "       [ 0.01686842],\n",
              "       [ 0.03604119],\n",
              "       [ 0.05725417],\n",
              "       [ 0.05876055],\n",
              "       [-0.04575979]], dtype=float32)"
            ]
          },
          "metadata": {},
          "execution_count": 30
        }
      ]
    },
    {
      "cell_type": "code",
      "source": [
        ""
      ],
      "metadata": {
        "id": "NnAYkDv7Hkas"
      },
      "execution_count": null,
      "outputs": []
    }
  ]
}