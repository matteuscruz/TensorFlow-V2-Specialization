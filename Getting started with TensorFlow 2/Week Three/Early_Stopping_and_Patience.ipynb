{
  "nbformat": 4,
  "nbformat_minor": 0,
  "metadata": {
    "colab": {
      "name": "Early Stopping and Patience.ipynb",
      "provenance": []
    },
    "kernelspec": {
      "name": "python3",
      "display_name": "Python 3"
    },
    "language_info": {
      "name": "python"
    }
  },
  "cells": [
    {
      "cell_type": "markdown",
      "source": [
        "Importando as bibliotecas:"
      ],
      "metadata": {
        "id": "B2Fylt2cdkF0"
      }
    },
    {
      "cell_type": "code",
      "execution_count": null,
      "metadata": {
        "id": "5vbCM2-cUu-D"
      },
      "outputs": [],
      "source": [
        "from tensorflow.keras.models import Sequential\n",
        "from tensorflow.keras.layers import Dropout, Dense\n",
        "from tensorflow.keras import regularizers\n",
        "from sklearn.datasets import load_diabetes\n",
        "from sklearn.model_selection import train_test_split\n",
        "import matplotlib.pyplot as plt"
      ]
    },
    {
      "cell_type": "markdown",
      "source": [
        "Importando o dataset:"
      ],
      "metadata": {
        "id": "X8BGCqqqdnpb"
      }
    },
    {
      "cell_type": "code",
      "source": [
        "diabetes_dataset = load_diabetes()\n",
        "print(diabetes_dataset[\"DESCR\"])"
      ],
      "metadata": {
        "colab": {
          "base_uri": "https://localhost:8080/"
        },
        "id": "23gBb9ZlYq3Y",
        "outputId": "a2bd0b32-2d16-431f-eff9-d4863e51a8e0"
      },
      "execution_count": null,
      "outputs": [
        {
          "output_type": "stream",
          "name": "stdout",
          "text": [
            ".. _diabetes_dataset:\n",
            "\n",
            "Diabetes dataset\n",
            "----------------\n",
            "\n",
            "Ten baseline variables, age, sex, body mass index, average blood\n",
            "pressure, and six blood serum measurements were obtained for each of n =\n",
            "442 diabetes patients, as well as the response of interest, a\n",
            "quantitative measure of disease progression one year after baseline.\n",
            "\n",
            "**Data Set Characteristics:**\n",
            "\n",
            "  :Number of Instances: 442\n",
            "\n",
            "  :Number of Attributes: First 10 columns are numeric predictive values\n",
            "\n",
            "  :Target: Column 11 is a quantitative measure of disease progression one year after baseline\n",
            "\n",
            "  :Attribute Information:\n",
            "      - age     age in years\n",
            "      - sex\n",
            "      - bmi     body mass index\n",
            "      - bp      average blood pressure\n",
            "      - s1      tc, total serum cholesterol\n",
            "      - s2      ldl, low-density lipoproteins\n",
            "      - s3      hdl, high-density lipoproteins\n",
            "      - s4      tch, total cholesterol / HDL\n",
            "      - s5      ltg, possibly log of serum triglycerides level\n",
            "      - s6      glu, blood sugar level\n",
            "\n",
            "Note: Each of these 10 feature variables have been mean centered and scaled by the standard deviation times `n_samples` (i.e. the sum of squares of each column totals 1).\n",
            "\n",
            "Source URL:\n",
            "https://www4.stat.ncsu.edu/~boos/var.select/diabetes.html\n",
            "\n",
            "For more information see:\n",
            "Bradley Efron, Trevor Hastie, Iain Johnstone and Robert Tibshirani (2004) \"Least Angle Regression,\" Annals of Statistics (with discussion), 407-499.\n",
            "(https://web.stanford.edu/~hastie/Papers/LARS/LeastAngle_2002.pdf)\n"
          ]
        }
      ]
    },
    {
      "cell_type": "markdown",
      "source": [
        "Tratando o dataset:"
      ],
      "metadata": {
        "id": "mw6_n9ZSdrax"
      }
    },
    {
      "cell_type": "code",
      "source": [
        "# Definindo as entreadas e os resultados\n",
        "data = diabetes_dataset[\"data\"]\n",
        "targets = diabetes_dataset[\"target\"]"
      ],
      "metadata": {
        "id": "BfHycSomYxJ6"
      },
      "execution_count": null,
      "outputs": []
    },
    {
      "cell_type": "code",
      "source": [
        "# Normalizando os dados (Esse procedimento torna as curvas de treinamento mais claras)\n",
        "targets = (targets - targets.mean(axis=0)) / targets.std()"
      ],
      "metadata": {
        "id": "GoGdTJzkY0sn"
      },
      "execution_count": null,
      "outputs": []
    },
    {
      "cell_type": "code",
      "source": [
        "# Separando o dataset em treinamento e teste\n",
        "train_data, test_data, train_targets, test_targets = train_test_split(data, targets, test_size=0.1)"
      ],
      "metadata": {
        "id": "dEfqxjb5Y5em"
      },
      "execution_count": null,
      "outputs": []
    },
    {
      "cell_type": "markdown",
      "source": [
        "Definindo o modelo:"
      ],
      "metadata": {
        "id": "3vTRk5SmdtLA"
      }
    },
    {
      "cell_type": "code",
      "source": [
        "def get_regularised_model(wd, rate): # wd = Weight Decay;\n",
        "  model = Sequential([\n",
        "      Dense(128, kernel_regularizer=regularizers.l2(wd), activation='relu', input_shape=(train_data.shape[1],)),\n",
        "      Dropout(rate),\n",
        "      Dense(128, kernel_regularizer=regularizers.l2(wd), activation='relu'),\n",
        "      Dropout(rate),\n",
        "      Dense(128, kernel_regularizer=regularizers.l2(wd), activation='relu'),\n",
        "      Dropout(rate),\n",
        "      Dense(128, kernel_regularizer=regularizers.l2(wd), activation='relu'),\n",
        "      Dropout(rate),\n",
        "      Dense(128, kernel_regularizer=regularizers.l2(wd), activation='relu'),\n",
        "      Dropout(rate),\n",
        "      Dense(128, kernel_regularizer=regularizers.l2(wd), activation='relu'),\n",
        "      Dense(1)\n",
        "  ])\n",
        "  return model"
      ],
      "metadata": {
        "id": "JOADVmHuVNOS"
      },
      "execution_count": null,
      "outputs": []
    },
    {
      "cell_type": "code",
      "source": [
        "# Criando o modelo\n",
        "model = get_regularised_model(1e-5, 0.3)"
      ],
      "metadata": {
        "id": "PG_aTK49VmMO"
      },
      "execution_count": null,
      "outputs": []
    },
    {
      "cell_type": "code",
      "source": [
        "# Complicando o modelo\n",
        "model.compile(optimizer='adam', loss='mse', metrics=['mae'])"
      ],
      "metadata": {
        "id": "HYizqsdTYKN-"
      },
      "execution_count": null,
      "outputs": []
    },
    {
      "cell_type": "code",
      "source": [
        "# Treinando o modelo:\n",
        "history = model.fit(train_data, train_targets, epochs=100,\n",
        "                    validation_split=0.15, batch_size=64, verbose=False)"
      ],
      "metadata": {
        "id": "8eQvXofmcxbW"
      },
      "execution_count": null,
      "outputs": []
    },
    {
      "cell_type": "code",
      "source": [
        "# Avaliando o modelo:\n",
        "model.evaluate(test_data, test_targets, verbose=2)"
      ],
      "metadata": {
        "colab": {
          "base_uri": "https://localhost:8080/"
        },
        "id": "KLEFHj-kdHzD",
        "outputId": "00683d49-0895-4d1f-b12b-6a4dbf34daa3"
      },
      "execution_count": null,
      "outputs": [
        {
          "output_type": "stream",
          "name": "stdout",
          "text": [
            "2/2 - 0s - loss: 0.6798 - mae: 0.6646 - 22ms/epoch - 11ms/step\n"
          ]
        },
        {
          "output_type": "execute_result",
          "data": {
            "text/plain": [
              "[0.6797767877578735, 0.6645677089691162]"
            ]
          },
          "metadata": {},
          "execution_count": 10
        }
      ]
    },
    {
      "cell_type": "code",
      "source": [
        "# Plotando a perda de treino e validação\n",
        "plt.plot(history.history['loss'])\n",
        "plt.plot(history.history['val_loss'])\n",
        "plt.show()"
      ],
      "metadata": {
        "colab": {
          "base_uri": "https://localhost:8080/",
          "height": 265
        },
        "id": "iFVViAorc8fo",
        "outputId": "45904e19-ee82-4e0a-a257-6005e97c42a7"
      },
      "execution_count": null,
      "outputs": [
        {
          "output_type": "display_data",
          "data": {
            "text/plain": [
              "<Figure size 432x288 with 1 Axes>"
            ],
            "image/png": "[encoded data removed]"
          },
          "metadata": {
            "needs_background": "light"
          }
        }
      ]
    },
    {
      "cell_type": "markdown",
      "source": [
        "# Callback"
      ],
      "metadata": {
        "id": "7tnulyrDD3Bl"
      }
    },
    {
      "cell_type": "markdown",
      "source": [
        "Importando as bibliotecas:"
      ],
      "metadata": {
        "id": "nblp4x6vD5Et"
      }
    },
    {
      "cell_type": "code",
      "source": [
        "from tensorflow.keras.callbacks import Callback"
      ],
      "metadata": {
        "id": "IuUo3DGZdglg"
      },
      "execution_count": null,
      "outputs": []
    },
    {
      "cell_type": "markdown",
      "source": [
        "Definindo os callbacks:"
      ],
      "metadata": {
        "id": "OJc8nMH7D7UC"
      }
    },
    {
      "cell_type": "markdown",
      "source": [
        "Treinamento:"
      ],
      "metadata": {
        "id": "k7sQDaveG-yk"
      }
    },
    {
      "cell_type": "code",
      "source": [
        "class TrainingCallback(Callback):\n",
        "\n",
        "  def on_train_begin(self, logs=None):\n",
        "    print(\"Starting training...\")\n",
        "\n",
        "  def on_epoch_begin(self, epoch, logs=None):\n",
        "    print(f\"Starting epoch {epoch}\")\n",
        "\n",
        "  def on_train_batch_begin(self, batch, logs=None):\n",
        "    print(f\"Training: Finished batch {batch}\")\n",
        "\n",
        "  def on_epoch_end(self, epoch, logs=None):\n",
        "    print(f\"Finished epoch {epoch}\")\n",
        "\n",
        "  def on_train_end(self, logs=None):\n",
        "    print(\"Finished training\")"
      ],
      "metadata": {
        "id": "psCJg2EvD6wB"
      },
      "execution_count": null,
      "outputs": []
    },
    {
      "cell_type": "markdown",
      "source": [
        "Teste:"
      ],
      "metadata": {
        "id": "VYRMmkNBHDGL"
      }
    },
    {
      "cell_type": "code",
      "source": [
        "class TestingCallback(Callback):\n",
        "\n",
        "  def on_train_begin(self, logs=None):\n",
        "    print(\"Starting training...\")\n",
        "\n",
        "  def on_epoch_begin(self, epoch, logs=None):\n",
        "    print(f\"Starting epoch {epoch}\")\n",
        "\n",
        "  def on_train_batch_begin(self, batch, logs=None):\n",
        "    print(f\"Training: Finished batch {batch}\")\n",
        "\n",
        "  def on_epoch_end(self, epoch, logs=None):\n",
        "    print(f\"Finished epoch {epoch}\")\n",
        "\n",
        "  def on_train_end(self, logs=None):\n",
        "    print(\"Finished training\")"
      ],
      "metadata": {
        "id": "ebg-o2Y0G-av"
      },
      "execution_count": null,
      "outputs": []
    },
    {
      "cell_type": "markdown",
      "source": [
        "Predição:"
      ],
      "metadata": {
        "id": "bR6FvGrdHFIW"
      }
    },
    {
      "cell_type": "code",
      "source": [
        "class PredictionCallback(Callback):\n",
        "\n",
        "  def on_train_begin(self, logs=None):\n",
        "    print(\"Starting training...\")\n",
        "\n",
        "  def on_epoch_begin(self, epoch, logs=None):\n",
        "    print(f\"Starting epoch {epoch}\")\n",
        "\n",
        "  def on_train_batch_begin(self, batch, logs=None):\n",
        "    print(f\"Training: Finished batch {batch}\")\n",
        "\n",
        "  def on_epoch_end(self, epoch, logs=None):\n",
        "    print(f\"Finished epoch {epoch}\")\n",
        "\n",
        "  def on_train_end(self, logs=None):\n",
        "    print(\"Finished training\")"
      ],
      "metadata": {
        "id": "padGZNYZHFbW"
      },
      "execution_count": null,
      "outputs": []
    },
    {
      "cell_type": "markdown",
      "source": [
        "Reconstruindo o modelo:"
      ],
      "metadata": {
        "id": "FLWiRe3UECCC"
      }
    },
    {
      "cell_type": "code",
      "source": [
        "model = get_regularised_model(1e-5, 0.3)"
      ],
      "metadata": {
        "id": "IdJ_twJ7EBCE"
      },
      "execution_count": null,
      "outputs": []
    },
    {
      "cell_type": "markdown",
      "source": [
        "Compilando o modelo:"
      ],
      "metadata": {
        "id": "n39M-NQiEPkL"
      }
    },
    {
      "cell_type": "code",
      "source": [
        "model.compile(optimizer='adam', loss='mse')"
      ],
      "metadata": {
        "id": "bVfN7vKrEO0r"
      },
      "execution_count": null,
      "outputs": []
    },
    {
      "cell_type": "markdown",
      "source": [
        "Treinando o modelo e usando os callbacks:"
      ],
      "metadata": {
        "id": "4nRtccOqF9Qc"
      }
    },
    {
      "cell_type": "code",
      "source": [
        "model.fit(train_data, train_targets, epochs=3, batch_size=128, verbose=False, callbacks=[TrainingCallback()])"
      ],
      "metadata": {
        "colab": {
          "base_uri": "https://localhost:8080/"
        },
        "id": "iB4uEedvF8L0",
        "outputId": "a670a44d-e52c-4813-8746-5ef9f75e53d5"
      },
      "execution_count": null,
      "outputs": [
        {
          "output_type": "stream",
          "name": "stdout",
          "text": [
            "Starting training...\n",
            "Starting epoch 0\n",
            "Training: Finished batch 0\n",
            "Training: Finished batch 1\n",
            "Training: Finished batch 2\n",
            "Training: Finished batch 3\n",
            "Finished epoch 0\n",
            "Starting epoch 1\n",
            "Training: Finished batch 0\n",
            "Training: Finished batch 1\n",
            "Training: Finished batch 2\n",
            "Training: Finished batch 3\n",
            "Finished epoch 1\n",
            "Starting epoch 2\n",
            "Training: Finished batch 0\n",
            "Training: Finished batch 1\n",
            "Training: Finished batch 2\n",
            "Training: Finished batch 3\n",
            "Finished epoch 2\n",
            "Finished training\n"
          ]
        },
        {
          "output_type": "execute_result",
          "data": {
            "text/plain": [
              "<keras.callbacks.History at 0x7f7c373b9fd0>"
            ]
          },
          "metadata": {},
          "execution_count": 18
        }
      ]
    },
    {
      "cell_type": "code",
      "source": [
        "model.evaluate(test_data, test_targets, verbose=False, callbacks=[TestingCallback()])"
      ],
      "metadata": {
        "colab": {
          "base_uri": "https://localhost:8080/"
        },
        "id": "46MCCrc2GSbw",
        "outputId": "1c2f8322-c573-4491-c542-e4e5001a6842"
      },
      "execution_count": null,
      "outputs": [
        {
          "output_type": "execute_result",
          "data": {
            "text/plain": [
              "0.5905895829200745"
            ]
          },
          "metadata": {},
          "execution_count": 19
        }
      ]
    },
    {
      "cell_type": "code",
      "source": [
        "model.predict(test_data, verbose=False, callbacks=[PredictionCallback()])"
      ],
      "metadata": {
        "colab": {
          "base_uri": "https://localhost:8080/"
        },
        "id": "kKXiVUeDG6Q2",
        "outputId": "1e546c10-18e7-4c86-8527-969179b4a573"
      },
      "execution_count": null,
      "outputs": [
        {
          "output_type": "execute_result",
          "data": {
            "text/plain": [
              "array([[ 1.50644844e-02],\n",
              "       [ 8.79931822e-02],\n",
              "       [-1.51748866e-01],\n",
              "       [-6.63853716e-05],\n",
              "       [-3.96682806e-02],\n",
              "       [-1.17057189e-01],\n",
              "       [-1.20280296e-01],\n",
              "       [ 1.57017373e-02],\n",
              "       [ 8.10210630e-02],\n",
              "       [-1.10672772e-01],\n",
              "       [-6.88302889e-02],\n",
              "       [-7.33620524e-02],\n",
              "       [ 2.49387566e-02],\n",
              "       [ 5.25802933e-02],\n",
              "       [-7.57249538e-04],\n",
              "       [ 5.40759228e-02],\n",
              "       [-1.15404263e-01],\n",
              "       [-8.62760842e-02],\n",
              "       [ 7.65653327e-02],\n",
              "       [ 1.82780419e-02],\n",
              "       [ 2.84274165e-02],\n",
              "       [-9.83062536e-02],\n",
              "       [-8.25696997e-03],\n",
              "       [ 4.55182642e-02],\n",
              "       [ 9.06956196e-02],\n",
              "       [-1.16118826e-01],\n",
              "       [ 1.13550536e-01],\n",
              "       [-2.87344791e-02],\n",
              "       [ 6.83993548e-02],\n",
              "       [-2.47108634e-03],\n",
              "       [ 8.02317820e-03],\n",
              "       [ 5.59936911e-02],\n",
              "       [-3.88011150e-02],\n",
              "       [ 6.03723750e-02],\n",
              "       [ 3.51972529e-03],\n",
              "       [ 8.92214179e-02],\n",
              "       [-1.34594917e-01],\n",
              "       [-8.67196769e-02],\n",
              "       [ 1.61305275e-02],\n",
              "       [-1.66745707e-01],\n",
              "       [ 7.56416395e-02],\n",
              "       [ 9.56564471e-02],\n",
              "       [-1.44954130e-01],\n",
              "       [ 1.19679617e-02],\n",
              "       [ 7.43498430e-02]], dtype=float32)"
            ]
          },
          "metadata": {},
          "execution_count": 20
        }
      ]
    },
    {
      "cell_type": "markdown",
      "source": [
        "# Early stopping / patience"
      ],
      "metadata": {
        "id": "jLdOtkAOAQLl"
      }
    },
    {
      "cell_type": "code",
      "source": [
        "from tensorflow.keras.callbacks import EarlyStopping"
      ],
      "metadata": {
        "id": "TKFsggc-BXMG"
      },
      "execution_count": null,
      "outputs": []
    },
    {
      "cell_type": "markdown",
      "source": [
        "## Unregularized model"
      ],
      "metadata": {
        "id": "nZT6dPFACAH0"
      }
    },
    {
      "cell_type": "markdown",
      "source": [
        "Definindo o modelo:"
      ],
      "metadata": {
        "id": "i6WHzV7iA2Tp"
      }
    },
    {
      "cell_type": "code",
      "source": [
        "def get_model(): # wd = Weight Decay;\n",
        "  model = Sequential([\n",
        "      Dense(128, activation='relu', input_shape=(train_data.shape[1],)),\n",
        "      Dense(128, activation='relu'),\n",
        "      Dense(128, activation='relu'),\n",
        "      Dense(128, activation='relu'),\n",
        "      Dense(128, activation='relu'),\n",
        "      Dense(128, activation='relu'),\n",
        "      Dense(1)\n",
        "  ])\n",
        "  return model"
      ],
      "metadata": {
        "id": "wMxv5vpmAlSi"
      },
      "execution_count": null,
      "outputs": []
    },
    {
      "cell_type": "markdown",
      "source": [
        "Contruindo o modelo:"
      ],
      "metadata": {
        "id": "VoSvdBZ0AajD"
      }
    },
    {
      "cell_type": "code",
      "source": [
        "unregularized_model = get_model()"
      ],
      "metadata": {
        "id": "NnAYkDv7Hkas"
      },
      "execution_count": null,
      "outputs": []
    },
    {
      "cell_type": "markdown",
      "source": [
        "Compilando o modelo:"
      ],
      "metadata": {
        "id": "jLoFsvwiA6ci"
      }
    },
    {
      "cell_type": "code",
      "source": [
        "unregularized_model.compile(optimizer='adam', loss='mse')"
      ],
      "metadata": {
        "id": "uAyT5qlBAev4"
      },
      "execution_count": null,
      "outputs": []
    },
    {
      "cell_type": "markdown",
      "source": [
        "Treinando o modelo:"
      ],
      "metadata": {
        "id": "P6OtDTVbBBhQ"
      }
    },
    {
      "cell_type": "code",
      "source": [
        "unreg_history = unregularized_model.fit(train_data, train_targets, epochs = 100,\n",
        "                                        validation_split = 0.15, batch_size = 32, verbose = False,\n",
        "                                        callbacks=[EarlyStopping(patience=2)])"
      ],
      "metadata": {
        "id": "MlPH9YzgBAY0"
      },
      "execution_count": null,
      "outputs": []
    },
    {
      "cell_type": "markdown",
      "source": [
        "Avaliando o modelo:"
      ],
      "metadata": {
        "id": "qIetPlFLBuX5"
      }
    },
    {
      "cell_type": "code",
      "source": [
        "unregularized_model.evaluate(test_data, test_targets, verbose=2)"
      ],
      "metadata": {
        "colab": {
          "base_uri": "https://localhost:8080/"
        },
        "id": "QbHnutyQBqt8",
        "outputId": "b6e05aa4-1eb5-44d7-cbcd-f0ad9d53039a"
      },
      "execution_count": null,
      "outputs": [
        {
          "output_type": "stream",
          "name": "stdout",
          "text": [
            "2/2 - 0s - loss: 0.5475 - 30ms/epoch - 15ms/step\n"
          ]
        },
        {
          "output_type": "execute_result",
          "data": {
            "text/plain": [
              "0.5474873781204224"
            ]
          },
          "metadata": {},
          "execution_count": 45
        }
      ]
    },
    {
      "cell_type": "markdown",
      "source": [
        "## Regularized model"
      ],
      "metadata": {
        "id": "WV86IQOpCECC"
      }
    },
    {
      "cell_type": "markdown",
      "source": [
        "Construindo o modelo:"
      ],
      "metadata": {
        "id": "uz8In_igCSn1"
      }
    },
    {
      "cell_type": "code",
      "source": [
        "regularized_model = get_regularised_model(1e-8, 0.2)"
      ],
      "metadata": {
        "id": "Kjwkh4YcB3Rf"
      },
      "execution_count": null,
      "outputs": []
    },
    {
      "cell_type": "markdown",
      "source": [
        "Compilando o modelo:"
      ],
      "metadata": {
        "id": "vah3jr-ZCUF_"
      }
    },
    {
      "cell_type": "code",
      "source": [
        "regularized_model.compile(optimizer='adam', loss='mse')"
      ],
      "metadata": {
        "id": "9rqyBoB_CJCk"
      },
      "execution_count": null,
      "outputs": []
    },
    {
      "cell_type": "markdown",
      "source": [
        "Treinando o modelo:"
      ],
      "metadata": {
        "id": "xlJDV7f3Cay_"
      }
    },
    {
      "cell_type": "code",
      "source": [
        "reg_history = unregularized_model.fit(train_data, train_targets, epochs = 100,\n",
        "                                        validation_split = 0.15, batch_size = 32, verbose = False,\n",
        "                                        callbacks=[EarlyStopping(patience=2)])"
      ],
      "metadata": {
        "id": "TzxdBUAnCb7K"
      },
      "execution_count": null,
      "outputs": []
    },
    {
      "cell_type": "markdown",
      "source": [
        "Avaliando o modelo:"
      ],
      "metadata": {
        "id": "ZHDubVktCplP"
      }
    },
    {
      "cell_type": "code",
      "source": [
        "regularized_model.evaluate(test_data, test_targets, verbose=2)"
      ],
      "metadata": {
        "colab": {
          "base_uri": "https://localhost:8080/"
        },
        "id": "9FiIyjvhCndJ",
        "outputId": "6fc96e91-1e73-4a40-e9bc-e4ed6006e500"
      },
      "execution_count": null,
      "outputs": [
        {
          "output_type": "stream",
          "name": "stdout",
          "text": [
            "2/2 - 0s - loss: 0.6456 - 215ms/epoch - 108ms/step\n"
          ]
        },
        {
          "output_type": "execute_result",
          "data": {
            "text/plain": [
              "0.6456092000007629"
            ]
          },
          "metadata": {},
          "execution_count": 49
        }
      ]
    },
    {
      "cell_type": "markdown",
      "source": [
        "Comparando o desempenho dos dois modelos:"
      ],
      "metadata": {
        "id": "A0rbt4kNC0-2"
      }
    },
    {
      "cell_type": "code",
      "source": [
        "import matplotlib.pyplot as plt\n",
        "\n",
        "fig = plt.figure(figsize=(12, 5))\n",
        "\n",
        "fig.add_subplot(121)\n",
        "\n",
        "plt.plot(unreg_history.history['loss'])\n",
        "plt.plot(unreg_history.history['val_loss'])\n",
        "plt.title('Unregularised model: loss vs. epochs')\n",
        "plt.ylabel('Loss')\n",
        "plt.xlabel('Epoch')\n",
        "plt.legend(['Training', 'Validation'], loc='upper right')\n",
        "\n",
        "fig.add_subplot(122)\n",
        "\n",
        "plt.plot(reg_history.history['loss'])\n",
        "plt.plot(reg_history.history['val_loss'])\n",
        "plt.title('Regularised model: loss vs. epochs')\n",
        "plt.ylabel('Loss')\n",
        "plt.xlabel('Epoch')\n",
        "plt.legend(['Training', 'Validation'], loc='upper right')\n",
        "\n",
        "plt.show()"
      ],
      "metadata": {
        "colab": {
          "base_uri": "https://localhost:8080/",
          "height": 350
        },
        "id": "FVljYo2tCsHX",
        "outputId": "6d459e1d-678e-4067-9363-0e5353cfc4ac"
      },
      "execution_count": null,
      "outputs": [
        {
          "output_type": "display_data",
          "data": {
            "text/plain": [
              "<Figure size 864x360 with 2 Axes>"
            ],
            "image/png": "[encoded data removed]"
          },
          "metadata": {
            "needs_background": "light"
          }
        }
      ]
    },
    {
      "cell_type": "code",
      "source": [
        ""
      ],
      "metadata": {
        "id": "xI9ZzVxUObKB"
      },
      "execution_count": null,
      "outputs": []
    }
  ]
}