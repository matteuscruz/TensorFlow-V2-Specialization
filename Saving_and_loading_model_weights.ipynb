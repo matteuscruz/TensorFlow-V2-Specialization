{
  "nbformat": 4,
  "nbformat_minor": 0,
  "metadata": {
    "colab": {
      "provenance": []
    },
    "kernelspec": {
      "name": "python3",
      "display_name": "Python 3"
    },
    "language_info": {
      "name": "python"
    }
  },
  "cells": [
    {
      "cell_type": "code",
      "execution_count": 2,
      "metadata": {
        "id": "UJXk-B9y8NvT"
      },
      "outputs": [],
      "source": [
        "from tensorflow.keras.models import Sequential  # Importando o tipo de model sequencial\n",
        "from tensorflow.keras.layers import Dense       # Importando as camadas densas do modelo\n",
        "from tensorflow.keras.losses import BinaryCrossentropy    # Importando o método de validação\n",
        "from tensorflow.keras.callbacks import ModelCheckpoint    # Importando o método de armazenamento dos pesos"
      ]
    },
    {
      "cell_type": "code",
      "source": [
        "model = Sequential([\n",
        "        Dense(64, activation='sigmoid', input_shape=(10,1)),\n",
        "        Dense(1)\n",
        "])"
      ],
      "metadata": {
        "id": "pbNUqMSz9UIa"
      },
      "execution_count": 3,
      "outputs": []
    },
    {
      "cell_type": "code",
      "source": [
        "model.compile(optimizer='sgd', loss=BinaryCrossentropy(from_logits=True))"
      ],
      "metadata": {
        "id": "jXt9VnzV9ncp"
      },
      "execution_count": 5,
      "outputs": []
    },
    {
      "cell_type": "code",
      "source": [
        "checkpoint = ModelCheckpoint('my_model', save_weights_only=True)"
      ],
      "metadata": {
        "id": "O_M0-JMU9xyH"
      },
      "execution_count": 6,
      "outputs": []
    },
    {
      "cell_type": "code",
      "source": [
        "model.fit(X_train, y_train, epochs=10, callbacks=[checkpoint])"
      ],
      "metadata": {
        "id": "JlrShWvR9-bn"
      },
      "execution_count": null,
      "outputs": []
    },
    {
      "cell_type": "code",
      "source": [
        "model.load_weights('my_model')"
      ],
      "metadata": {
        "id": "6jEQrL3b-Eox"
      },
      "execution_count": null,
      "outputs": []
    }
  ]
}