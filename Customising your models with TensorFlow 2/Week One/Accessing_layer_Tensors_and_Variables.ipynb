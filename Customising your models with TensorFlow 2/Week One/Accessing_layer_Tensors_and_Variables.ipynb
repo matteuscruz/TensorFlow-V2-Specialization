{
  "nbformat": 4,
  "nbformat_minor": 0,
  "metadata": {
    "colab": {
      "provenance": []
    },
    "kernelspec": {
      "name": "python3",
      "display_name": "Python 3"
    },
    "language_info": {
      "name": "python"
    }
  },
  "cells": [
    {
      "cell_type": "code",
      "source": [
        "from tensorflow.keras.models import Model\n",
        "from tensorflow.keras.layers import Input, Dense, Flatten, Conv1D, AveragePooling1D"
      ],
      "metadata": {
        "id": "Tfv4x63Rqa6l"
      },
      "execution_count": 1,
      "outputs": []
    },
    {
      "cell_type": "code",
      "source": [
        "inputs = Input(shape=(32, 1))\n",
        "h = Conv1D(16, 5, activation='relu')(inputs)\n",
        "h = AveragePooling1D(3)(h)\n",
        "h = Flatten()(h)\n",
        "outputs = Dense(20, activation='sigmoid')(h)"
      ],
      "metadata": {
        "id": "GGsiv_givtJG"
      },
      "execution_count": 3,
      "outputs": []
    },
    {
      "cell_type": "code",
      "source": [
        "model = Model(inputs=inputs, outputs=outputs)"
      ],
      "metadata": {
        "id": "Vm61I2mevumr"
      },
      "execution_count": 4,
      "outputs": []
    },
    {
      "cell_type": "code",
      "source": [
        "print(model.layers)"
      ],
      "metadata": {
        "colab": {
          "base_uri": "https://localhost:8080/"
        },
        "id": "fXhOvN2ZvvtT",
        "outputId": "2eacc0d5-3b45-4c98-becd-565e18c8d665"
      },
      "execution_count": 5,
      "outputs": [
        {
          "output_type": "stream",
          "name": "stdout",
          "text": [
            "[<keras.engine.input_layer.InputLayer object at 0x7f0964bcbbe0>, <keras.layers.convolutional.conv1d.Conv1D object at 0x7f0964bcbaf0>, <keras.layers.pooling.average_pooling1d.AveragePooling1D object at 0x7f09cc1c87c0>, <keras.layers.reshaping.flatten.Flatten object at 0x7f0964330250>, <keras.layers.core.dense.Dense object at 0x7f0964bcbfd0>]\n"
          ]
        }
      ]
    },
    {
      "cell_type": "code",
      "source": [
        "print(model.layers[1]) # Conv1D"
      ],
      "metadata": {
        "colab": {
          "base_uri": "https://localhost:8080/"
        },
        "id": "s_dkrGVlv3O0",
        "outputId": "add107ce-40b6-4730-d8dd-36a0846d2206"
      },
      "execution_count": 6,
      "outputs": [
        {
          "output_type": "stream",
          "name": "stdout",
          "text": [
            "<keras.layers.convolutional.conv1d.Conv1D object at 0x7f0964bcbaf0>\n"
          ]
        }
      ]
    },
    {
      "cell_type": "code",
      "source": [
        "print(model.layers[1].weights) # Conv1D"
      ],
      "metadata": {
        "colab": {
          "base_uri": "https://localhost:8080/"
        },
        "id": "EN4gfnxFwEvE",
        "outputId": "f7d711d0-07e5-4a74-f5fa-c8d2640607d2"
      },
      "execution_count": 7,
      "outputs": [
        {
          "output_type": "stream",
          "name": "stdout",
          "text": [
            "[<tf.Variable 'conv1d/kernel:0' shape=(5, 1, 16) dtype=float32, numpy=\n",
            "array([[[-0.060756  ,  0.13695517, -0.03570372,  0.18512532,\n",
            "         -0.00160882,  0.13198778,  0.11550191, -0.08320394,\n",
            "          0.21058288,  0.0067457 ,  0.06377262,  0.05408701,\n",
            "          0.16305584, -0.10967253,  0.19381082, -0.14174372]],\n",
            "\n",
            "       [[ 0.18428373,  0.1909472 ,  0.07728109, -0.11191168,\n",
            "          0.20284393,  0.2216278 , -0.11706074,  0.0703955 ,\n",
            "         -0.24972086,  0.17653978, -0.19784538,  0.04619756,\n",
            "         -0.00174341,  0.00679809,  0.0096432 , -0.19114262]],\n",
            "\n",
            "       [[-0.07557034,  0.09512436, -0.06904647, -0.07475746,\n",
            "         -0.22935243,  0.17057213, -0.00493628,  0.25592533,\n",
            "         -0.2149253 ,  0.16291934, -0.163227  ,  0.21095785,\n",
            "          0.19027755, -0.24964502, -0.09725392,  0.08910668]],\n",
            "\n",
            "       [[-0.13324459,  0.11611173, -0.0923533 , -0.0174278 ,\n",
            "          0.00734904,  0.12306792,  0.19574642,  0.09152761,\n",
            "         -0.09279083, -0.06984189,  0.22875857,  0.13734809,\n",
            "          0.03439844, -0.21738052,  0.04346317, -0.03684942]],\n",
            "\n",
            "       [[-0.17256835,  0.08538452,  0.00426844,  0.14931   ,\n",
            "         -0.09352404,  0.03385514, -0.038295  ,  0.22176525,\n",
            "         -0.13754913,  0.13488299,  0.018208  , -0.11718407,\n",
            "          0.14456198,  0.09662428,  0.02980968, -0.26249123]]],\n",
            "      dtype=float32)>, <tf.Variable 'conv1d/bias:0' shape=(16,) dtype=float32, numpy=\n",
            "array([0., 0., 0., 0., 0., 0., 0., 0., 0., 0., 0., 0., 0., 0., 0., 0.],\n",
            "      dtype=float32)>]\n"
          ]
        }
      ]
    },
    {
      "cell_type": "code",
      "source": [
        "print(model.layers[1].get_weights()) # Conv1D"
      ],
      "metadata": {
        "colab": {
          "base_uri": "https://localhost:8080/"
        },
        "id": "7mChpiHxwRQj",
        "outputId": "d5adba97-34b3-42ac-a96b-f8679a355e46"
      },
      "execution_count": 8,
      "outputs": [
        {
          "output_type": "stream",
          "name": "stdout",
          "text": [
            "[array([[[-0.060756  ,  0.13695517, -0.03570372,  0.18512532,\n",
            "         -0.00160882,  0.13198778,  0.11550191, -0.08320394,\n",
            "          0.21058288,  0.0067457 ,  0.06377262,  0.05408701,\n",
            "          0.16305584, -0.10967253,  0.19381082, -0.14174372]],\n",
            "\n",
            "       [[ 0.18428373,  0.1909472 ,  0.07728109, -0.11191168,\n",
            "          0.20284393,  0.2216278 , -0.11706074,  0.0703955 ,\n",
            "         -0.24972086,  0.17653978, -0.19784538,  0.04619756,\n",
            "         -0.00174341,  0.00679809,  0.0096432 , -0.19114262]],\n",
            "\n",
            "       [[-0.07557034,  0.09512436, -0.06904647, -0.07475746,\n",
            "         -0.22935243,  0.17057213, -0.00493628,  0.25592533,\n",
            "         -0.2149253 ,  0.16291934, -0.163227  ,  0.21095785,\n",
            "          0.19027755, -0.24964502, -0.09725392,  0.08910668]],\n",
            "\n",
            "       [[-0.13324459,  0.11611173, -0.0923533 , -0.0174278 ,\n",
            "          0.00734904,  0.12306792,  0.19574642,  0.09152761,\n",
            "         -0.09279083, -0.06984189,  0.22875857,  0.13734809,\n",
            "          0.03439844, -0.21738052,  0.04346317, -0.03684942]],\n",
            "\n",
            "       [[-0.17256835,  0.08538452,  0.00426844,  0.14931   ,\n",
            "         -0.09352404,  0.03385514, -0.038295  ,  0.22176525,\n",
            "         -0.13754913,  0.13488299,  0.018208  , -0.11718407,\n",
            "          0.14456198,  0.09662428,  0.02980968, -0.26249123]]],\n",
            "      dtype=float32), array([0., 0., 0., 0., 0., 0., 0., 0., 0., 0., 0., 0., 0., 0., 0., 0.],\n",
            "      dtype=float32)]\n"
          ]
        }
      ]
    },
    {
      "cell_type": "code",
      "source": [
        "print(model.layers[1].kernel) # Conv1D"
      ],
      "metadata": {
        "colab": {
          "base_uri": "https://localhost:8080/"
        },
        "id": "tgAczYmPwtlA",
        "outputId": "434c95a9-4f9a-4b6c-d20c-5a178ec3a0c5"
      },
      "execution_count": 9,
      "outputs": [
        {
          "output_type": "stream",
          "name": "stdout",
          "text": [
            "<tf.Variable 'conv1d/kernel:0' shape=(5, 1, 16) dtype=float32, numpy=\n",
            "array([[[-0.060756  ,  0.13695517, -0.03570372,  0.18512532,\n",
            "         -0.00160882,  0.13198778,  0.11550191, -0.08320394,\n",
            "          0.21058288,  0.0067457 ,  0.06377262,  0.05408701,\n",
            "          0.16305584, -0.10967253,  0.19381082, -0.14174372]],\n",
            "\n",
            "       [[ 0.18428373,  0.1909472 ,  0.07728109, -0.11191168,\n",
            "          0.20284393,  0.2216278 , -0.11706074,  0.0703955 ,\n",
            "         -0.24972086,  0.17653978, -0.19784538,  0.04619756,\n",
            "         -0.00174341,  0.00679809,  0.0096432 , -0.19114262]],\n",
            "\n",
            "       [[-0.07557034,  0.09512436, -0.06904647, -0.07475746,\n",
            "         -0.22935243,  0.17057213, -0.00493628,  0.25592533,\n",
            "         -0.2149253 ,  0.16291934, -0.163227  ,  0.21095785,\n",
            "          0.19027755, -0.24964502, -0.09725392,  0.08910668]],\n",
            "\n",
            "       [[-0.13324459,  0.11611173, -0.0923533 , -0.0174278 ,\n",
            "          0.00734904,  0.12306792,  0.19574642,  0.09152761,\n",
            "         -0.09279083, -0.06984189,  0.22875857,  0.13734809,\n",
            "          0.03439844, -0.21738052,  0.04346317, -0.03684942]],\n",
            "\n",
            "       [[-0.17256835,  0.08538452,  0.00426844,  0.14931   ,\n",
            "         -0.09352404,  0.03385514, -0.038295  ,  0.22176525,\n",
            "         -0.13754913,  0.13488299,  0.018208  , -0.11718407,\n",
            "          0.14456198,  0.09662428,  0.02980968, -0.26249123]]],\n",
            "      dtype=float32)>\n"
          ]
        }
      ]
    },
    {
      "cell_type": "code",
      "source": [
        "print(model.layers[1].bias) # Conv1D"
      ],
      "metadata": {
        "colab": {
          "base_uri": "https://localhost:8080/"
        },
        "id": "SkfyHxqpw4sq",
        "outputId": "211b315f-05e4-4e8d-8cdc-29208c7a0d3d"
      },
      "execution_count": 10,
      "outputs": [
        {
          "output_type": "stream",
          "name": "stdout",
          "text": [
            "<tf.Variable 'conv1d/bias:0' shape=(16,) dtype=float32, numpy=\n",
            "array([0., 0., 0., 0., 0., 0., 0., 0., 0., 0., 0., 0., 0., 0., 0., 0.],\n",
            "      dtype=float32)>\n"
          ]
        }
      ]
    },
    {
      "cell_type": "code",
      "source": [
        "inputs = Input(shape=(32, 1), name= 'input_layer')\n",
        "h = Conv1D(16, 5, activation='relu', name = 'conv1d_layer')(inputs)\n",
        "h = AveragePooling1D(3, name = 'avg_pool1d_layer')(h)\n",
        "h = Flatten(name = 'flatten_layer')(h)\n",
        "outputs = Dense(20, activation='sigmoid', name = 'dense_layer')(h)"
      ],
      "metadata": {
        "id": "svcP1tMJxEeP"
      },
      "execution_count": 15,
      "outputs": []
    },
    {
      "cell_type": "code",
      "source": [
        "model = Model(inputs=inputs, outputs=outputs)"
      ],
      "metadata": {
        "id": "o2nVqDxOyO5C"
      },
      "execution_count": 16,
      "outputs": []
    },
    {
      "cell_type": "code",
      "source": [
        "print(model.get_layer('conv1d_layer').bias) # Conv1D"
      ],
      "metadata": {
        "colab": {
          "base_uri": "https://localhost:8080/"
        },
        "id": "DHYuZhxxx1ke",
        "outputId": "92ef675d-675d-4531-dadf-9b9cb8636f93"
      },
      "execution_count": 18,
      "outputs": [
        {
          "output_type": "stream",
          "name": "stdout",
          "text": [
            "<tf.Variable 'conv1d_layer/bias:0' shape=(16,) dtype=float32, numpy=\n",
            "array([0., 0., 0., 0., 0., 0., 0., 0., 0., 0., 0., 0., 0., 0., 0., 0.],\n",
            "      dtype=float32)>\n"
          ]
        }
      ]
    },
    {
      "cell_type": "code",
      "source": [
        "print(model.get_layer('conv1d_layer').input) # input\n",
        "print(model.get_layer('conv1d_layer').input) # output"
      ],
      "metadata": {
        "colab": {
          "base_uri": "https://localhost:8080/"
        },
        "id": "UZWRaxphx6ky",
        "outputId": "c6b6432f-33b3-42ea-fa36-7f8b4616c005"
      },
      "execution_count": 19,
      "outputs": [
        {
          "output_type": "stream",
          "name": "stdout",
          "text": [
            "KerasTensor(type_spec=TensorSpec(shape=(None, 32, 1), dtype=tf.float32, name='input_layer'), name='input_layer', description=\"created by layer 'input_layer'\")\n",
            "KerasTensor(type_spec=TensorSpec(shape=(None, 32, 1), dtype=tf.float32, name='input_layer'), name='input_layer', description=\"created by layer 'input_layer'\")\n"
          ]
        }
      ]
    },
    {
      "cell_type": "code",
      "source": [
        "flatten_output = model.get_layer('flatten_layer').output"
      ],
      "metadata": {
        "id": "55IHJ48O1xtN"
      },
      "execution_count": 20,
      "outputs": []
    },
    {
      "cell_type": "code",
      "source": [
        "model2 = Model(inputs = model.input, outputs = flatten_output)"
      ],
      "metadata": {
        "id": "lLRarRZo2r2C"
      },
      "execution_count": 21,
      "outputs": []
    },
    {
      "cell_type": "code",
      "source": [
        "from tensorflow.keras.models import Sequential"
      ],
      "metadata": {
        "id": "PS9fkPYL3Kxf"
      },
      "execution_count": 23,
      "outputs": []
    },
    {
      "cell_type": "code",
      "source": [
        "model3 = Sequential([\n",
        "    model2,\n",
        "    Dense(10, activation = 'softmax', name = 'new_dense_layer')\n",
        "\n",
        "])"
      ],
      "metadata": {
        "id": "b7jJBH2L2sJ-"
      },
      "execution_count": 24,
      "outputs": []
    },
    {
      "cell_type": "code",
      "source": [],
      "metadata": {
        "id": "2Zq6VInB4A_1"
      },
      "execution_count": 29,
      "outputs": []
    },
    {
      "cell_type": "code",
      "source": [
        "new_outputs = Dense(10, activation = 'softmax')(flatten_output)"
      ],
      "metadata": {
        "id": "YqmKlOqz4R4_"
      },
      "execution_count": 34,
      "outputs": []
    },
    {
      "cell_type": "code",
      "source": [
        "model3 = Model(inputs = model2.input, outputs = new_outputs)"
      ],
      "metadata": {
        "id": "3hV8mpzL4CaK"
      },
      "execution_count": 35,
      "outputs": []
    },
    {
      "cell_type": "code",
      "source": [],
      "metadata": {
        "id": "U-bvUngb4Dhu"
      },
      "execution_count": null,
      "outputs": []
    }
  ]
}