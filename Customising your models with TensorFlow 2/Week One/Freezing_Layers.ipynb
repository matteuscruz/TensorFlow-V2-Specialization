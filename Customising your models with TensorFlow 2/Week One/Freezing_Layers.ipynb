{
  "nbformat": 4,
  "nbformat_minor": 0,
  "metadata": {
    "colab": {
      "provenance": []
    },
    "kernelspec": {
      "name": "python3",
      "display_name": "Python 3"
    },
    "language_info": {
      "name": "python"
    }
  },
  "cells": [
    {
      "cell_type": "markdown",
      "source": [
        "Defining the model: "
      ],
      "metadata": {
        "id": "GRSB-ZHo-4IB"
      }
    },
    {
      "cell_type": "code",
      "execution_count": 1,
      "metadata": {
        "id": "96ioaaq59eL3"
      },
      "outputs": [],
      "source": [
        "from tensorflow.keras.models import Model\n",
        "from tensorflow.keras.layers import Input, Dense, Flatten, Conv2D, MaxPooling2D"
      ]
    },
    {
      "cell_type": "code",
      "source": [
        "inputs = Input(shape=(8, 8, 1), name='inputlayer')\n",
        "h = Conv2D(16, 3, activation = 'relu', name = 'conv2d_layer')(inputs)\n",
        "h = MaxPooling2D(3, name='max_pool2d_layer')(h)\n",
        "h = Flatten(name='flatten_layer')(h)\n",
        "outputs = Dense(10, activation = 'softmax', name = 'softmax_layer')(h)"
      ],
      "metadata": {
        "id": "Rn2T-w1T-E9h"
      },
      "execution_count": 4,
      "outputs": []
    },
    {
      "cell_type": "code",
      "source": [
        "model = Model(inputs = inputs, outputs = outputs)"
      ],
      "metadata": {
        "id": "uw0H-InG-Peo"
      },
      "execution_count": 5,
      "outputs": []
    },
    {
      "cell_type": "code",
      "source": [
        "model.compile(loss='sparce_categorical_crossentropy')"
      ],
      "metadata": {
        "id": "VTNz_LSr_NMN"
      },
      "execution_count": 6,
      "outputs": []
    },
    {
      "cell_type": "markdown",
      "source": [
        "1. Freezing some layers:"
      ],
      "metadata": {
        "id": "bq_ShIeD-7Zn"
      }
    },
    {
      "cell_type": "code",
      "source": [
        "inputs = Input(shape=(8, 8, 1), name='inputlayer')\n",
        "h = Conv2D(16, 3, activation = 'relu', name = 'conv2d_layer', trainable = False)(inputs) # For defaut is True\n",
        "h = MaxPooling2D(3, name='max_pool2d_layer')(h)\n",
        "h = Flatten(name='flatten_layer')(h)\n",
        "outputs = Dense(10, activation = 'softmax', name = 'softmax_layer')(h)"
      ],
      "metadata": {
        "id": "0h9ZRkBT-Pzt"
      },
      "execution_count": 8,
      "outputs": []
    },
    {
      "cell_type": "code",
      "source": [
        "model.compile(loss='sparce_categorical_crossentropy')"
      ],
      "metadata": {
        "id": "CssUr4vo_N95"
      },
      "execution_count": 9,
      "outputs": []
    },
    {
      "cell_type": "markdown",
      "source": [
        "2. Freezing some layers: "
      ],
      "metadata": {
        "id": "A46DZoA7_QvX"
      }
    },
    {
      "cell_type": "code",
      "source": [
        "inputs = Input(shape=(8, 8, 1), name='inputlayer')\n",
        "h = Conv2D(16, 3, activation = 'relu', name = 'conv2d_layer')(inputs) \n",
        "h = MaxPooling2D(3, name='max_pool2d_layer')(h)\n",
        "h = Flatten(name='flatten_layer')(h)\n",
        "outputs = Dense(10, activation = 'softmax', name = 'softmax_layer')(h)"
      ],
      "metadata": {
        "id": "Ru7GcpSj_UId"
      },
      "execution_count": 10,
      "outputs": []
    },
    {
      "cell_type": "code",
      "source": [
        "model.get_layer('conv2d_layer').trainable = False"
      ],
      "metadata": {
        "id": "5fyjCedf_VIP"
      },
      "execution_count": 11,
      "outputs": []
    },
    {
      "cell_type": "code",
      "source": [
        "model.compile(loss='sparce_categorical_crossentropy')"
      ],
      "metadata": {
        "id": "3WSnE06C_b_v"
      },
      "execution_count": 12,
      "outputs": []
    },
    {
      "cell_type": "code",
      "source": [],
      "metadata": {
        "id": "I5qMsRId_lJY"
      },
      "execution_count": null,
      "outputs": []
    }
  ]
}